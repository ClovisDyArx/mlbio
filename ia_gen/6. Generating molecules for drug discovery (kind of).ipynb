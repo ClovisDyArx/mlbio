{
  "cells": [
    {
      "cell_type": "markdown",
      "metadata": {
        "id": "mdpC2ya-CnTY"
      },
      "source": [
        "# RNN Based molucule generation\n",
        "\n",
        "Laurent Cetinsoy\n",
        "\n",
        "In this hands-on we want to generate molecule formulas for denovo-drug discovery.\n",
        "\n",
        "For that we need to use Generative models. Generative models are models which goes beyond classification or simple regression : they are able to generate data that look like previously seens dataset.\n",
        "\n",
        "There exists a lot of models :\n",
        "\n",
        "- Bayesian models like graphical models\n",
        "- Recurrent models (for sequence generation like texte)\n",
        "- Variational auto encoders\n",
        "- Generative adversarial models\n",
        "- Flow and diffusion models\n",
        "\n",
        "\n",
        "In the hands-on we will start by  trainning a character based RNN to generate smile molecules\n",
        "\n",
        "\n",
        "We want to feed smile representations of molecules to an RNN.\n",
        "The basic idea is we will train it to predict the next smile token of a molecule given the previous one.\n",
        "\n",
        "For instance for the following molecule \"CC(=O)NC1=CC=C(O)C=C1\" will may give to the model\n",
        "\n",
        "X = \"CC(=O)N\"\n",
        "y = C\n",
        "\n",
        "and ask the RNN to learn to predict y given X\n",
        "\n",
        "Like a standard language model !\n"
      ]
    },
    {
      "cell_type": "markdown",
      "metadata": {
        "id": "4ZDK_fqUCnTZ"
      },
      "source": [
        "## RNN Language model\n",
        "\n",
        "\n",
        "A language model is a model which predict the next token of a sequence given the previous ones :\n",
        "\n",
        "$ P(X_t | X_{t-1}, X_{t-2}, ..., X_{t-p})  $\n",
        "\n",
        "\n",
        "This model can be learned with a Recurrent neural network\n",
        "\n",
        "$ y = P(X_t | X_{t-1}, X_{t-2}, ..., X_{t-p}) = RNN_{\\theta} (X_{t-1}, X_{t-2}, ..., X_{t-p})  $\n",
        "\n",
        "\n",
        "In order to train such model you need a corpus of data.\n",
        "\n",
        "\n",
        "\n",
        "There are two main ways to do that : Word level model or character level model\n",
        "\n",
        "For character level models, an interesting resource is : http://karpathy.github.io/2015/05/21/rnn-effectiveness/\n",
        "\n"
      ]
    },
    {
      "cell_type": "markdown",
      "metadata": {
        "id": "GhJBK5yTCnTa"
      },
      "source": [
        "Explain briefly what is the difference between word based language model and character based language model"
      ]
    },
    {
      "cell_type": "markdown",
      "metadata": {
        "id": "EPikX-qlCnTa"
      },
      "source": []
    },
    {
      "cell_type": "markdown",
      "metadata": {
        "id": "FbnvoQETCnTa"
      },
      "source": [
        "## Loading the data"
      ]
    },
    {
      "cell_type": "markdown",
      "metadata": {
        "id": "vo0lzuNMCnTa"
      },
      "source": [
        "Dowload the following dataset : https://github.com/joeymach/Leveraging-VAE-to-generate-molecules"
      ]
    },
    {
      "cell_type": "code",
      "execution_count": 1,
      "metadata": {
        "id": "_jdYDHLGCnTa",
        "outputId": "4d3157c1-d99a-4653-96bb-758553074d80",
        "colab": {
          "base_uri": "https://localhost:8080/"
        }
      },
      "outputs": [
        {
          "output_type": "stream",
          "name": "stdout",
          "text": [
            "Archive:  /content/Leveraging-VAE-to-generate-molecules-master.zip\n",
            "bdb6ecc45027b920d97e85e1a2b3ab8945759792\n",
            "   creating: Leveraging-VAE-to-generate-molecules-master/\n",
            "  inflating: Leveraging-VAE-to-generate-molecules-master/250k_smiles.csv  \n",
            "  inflating: Leveraging-VAE-to-generate-molecules-master/README.md  \n",
            "  inflating: Leveraging-VAE-to-generate-molecules-master/VAE_model_250k.ipynb  \n"
          ]
        }
      ],
      "source": [
        "!unzip /content/Leveraging-VAE-to-generate-molecules-master.zip"
      ]
    },
    {
      "cell_type": "markdown",
      "metadata": {
        "id": "kqw9raurCnTa"
      },
      "source": [
        "Import pandas and load the first 1000 lines"
      ]
    },
    {
      "cell_type": "code",
      "source": [
        "import numpy as np\n",
        "import pandas as pd"
      ],
      "metadata": {
        "id": "oKyqnrddOhxa"
      },
      "execution_count": 91,
      "outputs": []
    },
    {
      "cell_type": "code",
      "execution_count": 3,
      "metadata": {
        "id": "W26SmigYCnTa"
      },
      "outputs": [],
      "source": [
        "path = \"Leveraging-VAE-to-generate-molecules-master/250k_smiles.csv\"\n",
        "df = pd.read_csv(path, nrows=1000)"
      ]
    },
    {
      "cell_type": "markdown",
      "metadata": {
        "id": "IdHt24-RCnTb"
      },
      "source": [
        "Display the first rows of the dataframe"
      ]
    },
    {
      "cell_type": "code",
      "execution_count": 4,
      "metadata": {
        "id": "zSG6FvQ8CnTb",
        "outputId": "0f6978f6-e5d9-449a-c8bc-42a5fcbfab5a",
        "colab": {
          "base_uri": "https://localhost:8080/",
          "height": 206
        }
      },
      "outputs": [
        {
          "output_type": "execute_result",
          "data": {
            "text/plain": [
              "                                              smiles     logP       qed  \\\n",
              "0          CC(C)(C)c1ccc2occ(CC(=O)Nc3ccccc3F)c2c1\\n  5.05060  0.702012   \n",
              "1     C[C@@H]1CC(Nc2cncc(-c3nncn3C)c2)C[C@@H](C)C1\\n  3.11370  0.928975   \n",
              "2  N#Cc1ccc(-c2ccc(O[C@@H](C(=O)N3CCCC3)c3ccccc3)...  4.96778  0.599682   \n",
              "3  CCOC(=O)[C@@H]1CCCN(C(=O)c2nc(-c3ccc(C)cc3)n3c...  4.00022  0.690944   \n",
              "4  N#CC1=C(SCC(=O)Nc2cccc(Cl)c2)N=C([O-])[C@H](C#...  3.60956  0.789027   \n",
              "\n",
              "        SAS  \n",
              "0  2.084095  \n",
              "1  3.432004  \n",
              "2  2.470633  \n",
              "3  2.822753  \n",
              "4  4.035182  "
            ],
            "text/html": [
              "\n",
              "  <div id=\"df-de9f4c64-c6bf-4021-a9af-29ea6a974ce9\" class=\"colab-df-container\">\n",
              "    <div>\n",
              "<style scoped>\n",
              "    .dataframe tbody tr th:only-of-type {\n",
              "        vertical-align: middle;\n",
              "    }\n",
              "\n",
              "    .dataframe tbody tr th {\n",
              "        vertical-align: top;\n",
              "    }\n",
              "\n",
              "    .dataframe thead th {\n",
              "        text-align: right;\n",
              "    }\n",
              "</style>\n",
              "<table border=\"1\" class=\"dataframe\">\n",
              "  <thead>\n",
              "    <tr style=\"text-align: right;\">\n",
              "      <th></th>\n",
              "      <th>smiles</th>\n",
              "      <th>logP</th>\n",
              "      <th>qed</th>\n",
              "      <th>SAS</th>\n",
              "    </tr>\n",
              "  </thead>\n",
              "  <tbody>\n",
              "    <tr>\n",
              "      <th>0</th>\n",
              "      <td>CC(C)(C)c1ccc2occ(CC(=O)Nc3ccccc3F)c2c1\\n</td>\n",
              "      <td>5.05060</td>\n",
              "      <td>0.702012</td>\n",
              "      <td>2.084095</td>\n",
              "    </tr>\n",
              "    <tr>\n",
              "      <th>1</th>\n",
              "      <td>C[C@@H]1CC(Nc2cncc(-c3nncn3C)c2)C[C@@H](C)C1\\n</td>\n",
              "      <td>3.11370</td>\n",
              "      <td>0.928975</td>\n",
              "      <td>3.432004</td>\n",
              "    </tr>\n",
              "    <tr>\n",
              "      <th>2</th>\n",
              "      <td>N#Cc1ccc(-c2ccc(O[C@@H](C(=O)N3CCCC3)c3ccccc3)...</td>\n",
              "      <td>4.96778</td>\n",
              "      <td>0.599682</td>\n",
              "      <td>2.470633</td>\n",
              "    </tr>\n",
              "    <tr>\n",
              "      <th>3</th>\n",
              "      <td>CCOC(=O)[C@@H]1CCCN(C(=O)c2nc(-c3ccc(C)cc3)n3c...</td>\n",
              "      <td>4.00022</td>\n",
              "      <td>0.690944</td>\n",
              "      <td>2.822753</td>\n",
              "    </tr>\n",
              "    <tr>\n",
              "      <th>4</th>\n",
              "      <td>N#CC1=C(SCC(=O)Nc2cccc(Cl)c2)N=C([O-])[C@H](C#...</td>\n",
              "      <td>3.60956</td>\n",
              "      <td>0.789027</td>\n",
              "      <td>4.035182</td>\n",
              "    </tr>\n",
              "  </tbody>\n",
              "</table>\n",
              "</div>\n",
              "    <div class=\"colab-df-buttons\">\n",
              "\n",
              "  <div class=\"colab-df-container\">\n",
              "    <button class=\"colab-df-convert\" onclick=\"convertToInteractive('df-de9f4c64-c6bf-4021-a9af-29ea6a974ce9')\"\n",
              "            title=\"Convert this dataframe to an interactive table.\"\n",
              "            style=\"display:none;\">\n",
              "\n",
              "  <svg xmlns=\"http://www.w3.org/2000/svg\" height=\"24px\" viewBox=\"0 -960 960 960\">\n",
              "    <path d=\"M120-120v-720h720v720H120Zm60-500h600v-160H180v160Zm220 220h160v-160H400v160Zm0 220h160v-160H400v160ZM180-400h160v-160H180v160Zm440 0h160v-160H620v160ZM180-180h160v-160H180v160Zm440 0h160v-160H620v160Z\"/>\n",
              "  </svg>\n",
              "    </button>\n",
              "\n",
              "  <style>\n",
              "    .colab-df-container {\n",
              "      display:flex;\n",
              "      gap: 12px;\n",
              "    }\n",
              "\n",
              "    .colab-df-convert {\n",
              "      background-color: #E8F0FE;\n",
              "      border: none;\n",
              "      border-radius: 50%;\n",
              "      cursor: pointer;\n",
              "      display: none;\n",
              "      fill: #1967D2;\n",
              "      height: 32px;\n",
              "      padding: 0 0 0 0;\n",
              "      width: 32px;\n",
              "    }\n",
              "\n",
              "    .colab-df-convert:hover {\n",
              "      background-color: #E2EBFA;\n",
              "      box-shadow: 0px 1px 2px rgba(60, 64, 67, 0.3), 0px 1px 3px 1px rgba(60, 64, 67, 0.15);\n",
              "      fill: #174EA6;\n",
              "    }\n",
              "\n",
              "    .colab-df-buttons div {\n",
              "      margin-bottom: 4px;\n",
              "    }\n",
              "\n",
              "    [theme=dark] .colab-df-convert {\n",
              "      background-color: #3B4455;\n",
              "      fill: #D2E3FC;\n",
              "    }\n",
              "\n",
              "    [theme=dark] .colab-df-convert:hover {\n",
              "      background-color: #434B5C;\n",
              "      box-shadow: 0px 1px 3px 1px rgba(0, 0, 0, 0.15);\n",
              "      filter: drop-shadow(0px 1px 2px rgba(0, 0, 0, 0.3));\n",
              "      fill: #FFFFFF;\n",
              "    }\n",
              "  </style>\n",
              "\n",
              "    <script>\n",
              "      const buttonEl =\n",
              "        document.querySelector('#df-de9f4c64-c6bf-4021-a9af-29ea6a974ce9 button.colab-df-convert');\n",
              "      buttonEl.style.display =\n",
              "        google.colab.kernel.accessAllowed ? 'block' : 'none';\n",
              "\n",
              "      async function convertToInteractive(key) {\n",
              "        const element = document.querySelector('#df-de9f4c64-c6bf-4021-a9af-29ea6a974ce9');\n",
              "        const dataTable =\n",
              "          await google.colab.kernel.invokeFunction('convertToInteractive',\n",
              "                                                    [key], {});\n",
              "        if (!dataTable) return;\n",
              "\n",
              "        const docLinkHtml = 'Like what you see? Visit the ' +\n",
              "          '<a target=\"_blank\" href=https://colab.research.google.com/notebooks/data_table.ipynb>data table notebook</a>'\n",
              "          + ' to learn more about interactive tables.';\n",
              "        element.innerHTML = '';\n",
              "        dataTable['output_type'] = 'display_data';\n",
              "        await google.colab.output.renderOutput(dataTable, element);\n",
              "        const docLink = document.createElement('div');\n",
              "        docLink.innerHTML = docLinkHtml;\n",
              "        element.appendChild(docLink);\n",
              "      }\n",
              "    </script>\n",
              "  </div>\n",
              "\n",
              "\n",
              "<div id=\"df-40d2f5af-47dd-4682-bb8d-258f68a4da85\">\n",
              "  <button class=\"colab-df-quickchart\" onclick=\"quickchart('df-40d2f5af-47dd-4682-bb8d-258f68a4da85')\"\n",
              "            title=\"Suggest charts\"\n",
              "            style=\"display:none;\">\n",
              "\n",
              "<svg xmlns=\"http://www.w3.org/2000/svg\" height=\"24px\"viewBox=\"0 0 24 24\"\n",
              "     width=\"24px\">\n",
              "    <g>\n",
              "        <path d=\"M19 3H5c-1.1 0-2 .9-2 2v14c0 1.1.9 2 2 2h14c1.1 0 2-.9 2-2V5c0-1.1-.9-2-2-2zM9 17H7v-7h2v7zm4 0h-2V7h2v10zm4 0h-2v-4h2v4z\"/>\n",
              "    </g>\n",
              "</svg>\n",
              "  </button>\n",
              "\n",
              "<style>\n",
              "  .colab-df-quickchart {\n",
              "      --bg-color: #E8F0FE;\n",
              "      --fill-color: #1967D2;\n",
              "      --hover-bg-color: #E2EBFA;\n",
              "      --hover-fill-color: #174EA6;\n",
              "      --disabled-fill-color: #AAA;\n",
              "      --disabled-bg-color: #DDD;\n",
              "  }\n",
              "\n",
              "  [theme=dark] .colab-df-quickchart {\n",
              "      --bg-color: #3B4455;\n",
              "      --fill-color: #D2E3FC;\n",
              "      --hover-bg-color: #434B5C;\n",
              "      --hover-fill-color: #FFFFFF;\n",
              "      --disabled-bg-color: #3B4455;\n",
              "      --disabled-fill-color: #666;\n",
              "  }\n",
              "\n",
              "  .colab-df-quickchart {\n",
              "    background-color: var(--bg-color);\n",
              "    border: none;\n",
              "    border-radius: 50%;\n",
              "    cursor: pointer;\n",
              "    display: none;\n",
              "    fill: var(--fill-color);\n",
              "    height: 32px;\n",
              "    padding: 0;\n",
              "    width: 32px;\n",
              "  }\n",
              "\n",
              "  .colab-df-quickchart:hover {\n",
              "    background-color: var(--hover-bg-color);\n",
              "    box-shadow: 0 1px 2px rgba(60, 64, 67, 0.3), 0 1px 3px 1px rgba(60, 64, 67, 0.15);\n",
              "    fill: var(--button-hover-fill-color);\n",
              "  }\n",
              "\n",
              "  .colab-df-quickchart-complete:disabled,\n",
              "  .colab-df-quickchart-complete:disabled:hover {\n",
              "    background-color: var(--disabled-bg-color);\n",
              "    fill: var(--disabled-fill-color);\n",
              "    box-shadow: none;\n",
              "  }\n",
              "\n",
              "  .colab-df-spinner {\n",
              "    border: 2px solid var(--fill-color);\n",
              "    border-color: transparent;\n",
              "    border-bottom-color: var(--fill-color);\n",
              "    animation:\n",
              "      spin 1s steps(1) infinite;\n",
              "  }\n",
              "\n",
              "  @keyframes spin {\n",
              "    0% {\n",
              "      border-color: transparent;\n",
              "      border-bottom-color: var(--fill-color);\n",
              "      border-left-color: var(--fill-color);\n",
              "    }\n",
              "    20% {\n",
              "      border-color: transparent;\n",
              "      border-left-color: var(--fill-color);\n",
              "      border-top-color: var(--fill-color);\n",
              "    }\n",
              "    30% {\n",
              "      border-color: transparent;\n",
              "      border-left-color: var(--fill-color);\n",
              "      border-top-color: var(--fill-color);\n",
              "      border-right-color: var(--fill-color);\n",
              "    }\n",
              "    40% {\n",
              "      border-color: transparent;\n",
              "      border-right-color: var(--fill-color);\n",
              "      border-top-color: var(--fill-color);\n",
              "    }\n",
              "    60% {\n",
              "      border-color: transparent;\n",
              "      border-right-color: var(--fill-color);\n",
              "    }\n",
              "    80% {\n",
              "      border-color: transparent;\n",
              "      border-right-color: var(--fill-color);\n",
              "      border-bottom-color: var(--fill-color);\n",
              "    }\n",
              "    90% {\n",
              "      border-color: transparent;\n",
              "      border-bottom-color: var(--fill-color);\n",
              "    }\n",
              "  }\n",
              "</style>\n",
              "\n",
              "  <script>\n",
              "    async function quickchart(key) {\n",
              "      const quickchartButtonEl =\n",
              "        document.querySelector('#' + key + ' button');\n",
              "      quickchartButtonEl.disabled = true;  // To prevent multiple clicks.\n",
              "      quickchartButtonEl.classList.add('colab-df-spinner');\n",
              "      try {\n",
              "        const charts = await google.colab.kernel.invokeFunction(\n",
              "            'suggestCharts', [key], {});\n",
              "      } catch (error) {\n",
              "        console.error('Error during call to suggestCharts:', error);\n",
              "      }\n",
              "      quickchartButtonEl.classList.remove('colab-df-spinner');\n",
              "      quickchartButtonEl.classList.add('colab-df-quickchart-complete');\n",
              "    }\n",
              "    (() => {\n",
              "      let quickchartButtonEl =\n",
              "        document.querySelector('#df-40d2f5af-47dd-4682-bb8d-258f68a4da85 button');\n",
              "      quickchartButtonEl.style.display =\n",
              "        google.colab.kernel.accessAllowed ? 'block' : 'none';\n",
              "    })();\n",
              "  </script>\n",
              "</div>\n",
              "\n",
              "    </div>\n",
              "  </div>\n"
            ],
            "application/vnd.google.colaboratory.intrinsic+json": {
              "type": "dataframe",
              "variable_name": "df",
              "summary": "{\n  \"name\": \"df\",\n  \"rows\": 1000,\n  \"fields\": [\n    {\n      \"column\": \"smiles\",\n      \"properties\": {\n        \"dtype\": \"string\",\n        \"num_unique_values\": 1000,\n        \"samples\": [\n          \"N#Cc1ccc(OC2CCC(NC(=O)c3ccc[nH]3)CC2)nc1\\n\",\n          \"Cc1ccc(F)c(C[NH+]2CCC(C(=O)NC(C)C)CC2)c1\\n\",\n          \"CCc1ccc(/C=C(\\\\C#N)C(N)=O)s1\\n\"\n        ],\n        \"semantic_type\": \"\",\n        \"description\": \"\"\n      }\n    },\n    {\n      \"column\": \"logP\",\n      \"properties\": {\n        \"dtype\": \"number\",\n        \"std\": 1.4736462511891064,\n        \"min\": -2.9468,\n        \"max\": 6.15252,\n        \"num_unique_values\": 995,\n        \"samples\": [\n          3.01694,\n          4.3819,\n          2.7385\n        ],\n        \"semantic_type\": \"\",\n        \"description\": \"\"\n      }\n    },\n    {\n      \"column\": \"qed\",\n      \"properties\": {\n        \"dtype\": \"number\",\n        \"std\": 0.14056536453573196,\n        \"min\": 0.159707353629,\n        \"max\": 0.944291701836,\n        \"num_unique_values\": 1000,\n        \"samples\": [\n          0.907163732834,\n          0.874209941904,\n          0.608641728564\n        ],\n        \"semantic_type\": \"\",\n        \"description\": \"\"\n      }\n    },\n    {\n      \"column\": \"SAS\",\n      \"properties\": {\n        \"dtype\": \"number\",\n        \"std\": 0.8013742587844209,\n        \"min\": 1.6177473510713265,\n        \"max\": 5.968905818013142,\n        \"num_unique_values\": 1000,\n        \"samples\": [\n          2.567054813157532,\n          3.4253751854189067,\n          2.6732769419674405\n        ],\n        \"semantic_type\": \"\",\n        \"description\": \"\"\n      }\n    }\n  ]\n}"
            }
          },
          "metadata": {},
          "execution_count": 4
        }
      ],
      "source": [
        "df.head()"
      ]
    },
    {
      "cell_type": "markdown",
      "metadata": {
        "id": "uMOYaMeuCnTb"
      },
      "source": [
        "## Processing the data\n",
        "\n",
        "We need to do the following things :\n",
        "\n",
        "- convert smile tokens to numbers\n",
        "- build  smile token sequences and corresponding labels pairs"
      ]
    },
    {
      "cell_type": "markdown",
      "metadata": {
        "id": "FzDuH8TeCnTb"
      },
      "source": [
        "Compute the biggest smile molecule size"
      ]
    },
    {
      "cell_type": "code",
      "source": [
        "max_len = df['smiles'].str.len().max()"
      ],
      "metadata": {
        "id": "nnnEfEMIGpCF"
      },
      "execution_count": 16,
      "outputs": []
    },
    {
      "cell_type": "markdown",
      "metadata": {
        "id": "BAZXnS89CnTb"
      },
      "source": [
        "\n",
        "Code a function **unic_characters(string)** which return the unic characters in a string\n"
      ]
    },
    {
      "cell_type": "code",
      "source": [
        "def unic_characters(string):\n",
        "    return sorted(list(set(string)))"
      ],
      "metadata": {
        "id": "6aHOPiu1HicB"
      },
      "execution_count": 30,
      "outputs": []
    },
    {
      "cell_type": "markdown",
      "metadata": {
        "id": "aSyd5A1jCnTb"
      },
      "source": [
        "Concatenate all smile string of the pandas dataframe and use **unic_characters** to get the unic_characters"
      ]
    },
    {
      "cell_type": "code",
      "execution_count": 33,
      "metadata": {
        "collapsed": true,
        "id": "MdFdK6ymCnTb",
        "outputId": "41b6f4ca-f80c-443c-a4cd-b314c352f877",
        "colab": {
          "base_uri": "https://localhost:8080/"
        }
      },
      "outputs": [
        {
          "output_type": "execute_result",
          "data": {
            "text/plain": [
              "['\\n',\n",
              " '#',\n",
              " '(',\n",
              " ')',\n",
              " '+',\n",
              " '-',\n",
              " '/',\n",
              " '1',\n",
              " '2',\n",
              " '3',\n",
              " '4',\n",
              " '5',\n",
              " '6',\n",
              " '7',\n",
              " '=',\n",
              " '@',\n",
              " 'B',\n",
              " 'C',\n",
              " 'F',\n",
              " 'H',\n",
              " 'I',\n",
              " 'N',\n",
              " 'O',\n",
              " 'S',\n",
              " '[',\n",
              " '\\\\',\n",
              " ']',\n",
              " 'c',\n",
              " 'l',\n",
              " 'n',\n",
              " 'o',\n",
              " 'r',\n",
              " 's']"
            ]
          },
          "metadata": {},
          "execution_count": 33
        }
      ],
      "source": [
        "all_smiles = ''.join(df['smiles'])\n",
        "unique_chars = unic_characters(all_smiles)\n",
        "unique_chars"
      ]
    },
    {
      "cell_type": "markdown",
      "metadata": {
        "id": "EnHIPphZCnTb"
      },
      "source": [
        "Code a function **map_char_to_int(unic_chars)** which returns a dictionnary where each char is assigned an int value.\n",
        "Add a character to specify the end of the molecule (like \"\\n\")\n"
      ]
    },
    {
      "cell_type": "markdown",
      "metadata": {
        "id": "5xPTR9AjCnTb"
      },
      "source": [
        "Code a function map_int_to_char(unic_chars) which returns the reverse mapping.\n",
        "\n",
        "If you want you can merge both functions in a class"
      ]
    },
    {
      "cell_type": "markdown",
      "metadata": {
        "id": "Mgxm2ZVyCnTb"
      },
      "source": [
        "For each smile molecule add the ending token to it"
      ]
    },
    {
      "cell_type": "code",
      "execution_count": 34,
      "metadata": {
        "id": "9KpEQZocCnTb"
      },
      "outputs": [],
      "source": [
        "class MapClass:\n",
        "    def __init__(self, unic_chars):\n",
        "        self.unic_characters = unic_chars\n",
        "\n",
        "    def map_char_to_int(self):\n",
        "        char_to_int = dict((c, i) for i, c in enumerate(self.unic_characters))\n",
        "        return char_to_int\n",
        "\n",
        "    def map_int_to_char(self):\n",
        "        int_to_char = dict((i, c) for i, c in enumerate(self.unic_characters))\n",
        "        return int_to_char"
      ]
    },
    {
      "cell_type": "code",
      "source": [
        "map_class = MapClass(unique_chars)"
      ],
      "metadata": {
        "id": "AEYrVqOaKo2p"
      },
      "execution_count": 55,
      "outputs": []
    },
    {
      "cell_type": "code",
      "execution_count": 56,
      "metadata": {
        "collapsed": true,
        "id": "yLl4RVEbCnTb",
        "outputId": "450a82c4-2b4e-4049-fdcf-d845a8646dd6",
        "colab": {
          "base_uri": "https://localhost:8080/"
        }
      },
      "outputs": [
        {
          "output_type": "stream",
          "name": "stdout",
          "text": [
            "{'\\n': 0, '#': 1, '(': 2, ')': 3, '+': 4, '-': 5, '/': 6, '1': 7, '2': 8, '3': 9, '4': 10, '5': 11, '6': 12, '7': 13, '=': 14, '@': 15, 'B': 16, 'C': 17, 'F': 18, 'H': 19, 'I': 20, 'N': 21, 'O': 22, 'S': 23, '[': 24, '\\\\': 25, ']': 26, 'c': 27, 'l': 28, 'n': 29, 'o': 30, 'r': 31, 's': 32}\n"
          ]
        }
      ],
      "source": [
        "char_to_int = map_class.map_char_to_int()\n",
        "print(''.join(repr(char_to_int)))"
      ]
    },
    {
      "cell_type": "code",
      "source": [
        "int_to_char = map_class.map_int_to_char()\n",
        "int_to_char"
      ],
      "metadata": {
        "collapsed": true,
        "id": "qKeEpVErIayt",
        "outputId": "12741b3e-c52f-4d5f-c382-911abb267850",
        "colab": {
          "base_uri": "https://localhost:8080/"
        }
      },
      "execution_count": 57,
      "outputs": [
        {
          "output_type": "execute_result",
          "data": {
            "text/plain": [
              "{0: '\\n',\n",
              " 1: '#',\n",
              " 2: '(',\n",
              " 3: ')',\n",
              " 4: '+',\n",
              " 5: '-',\n",
              " 6: '/',\n",
              " 7: '1',\n",
              " 8: '2',\n",
              " 9: '3',\n",
              " 10: '4',\n",
              " 11: '5',\n",
              " 12: '6',\n",
              " 13: '7',\n",
              " 14: '=',\n",
              " 15: '@',\n",
              " 16: 'B',\n",
              " 17: 'C',\n",
              " 18: 'F',\n",
              " 19: 'H',\n",
              " 20: 'I',\n",
              " 21: 'N',\n",
              " 22: 'O',\n",
              " 23: 'S',\n",
              " 24: '[',\n",
              " 25: '\\\\',\n",
              " 26: ']',\n",
              " 27: 'c',\n",
              " 28: 'l',\n",
              " 29: 'n',\n",
              " 30: 'o',\n",
              " 31: 'r',\n",
              " 32: 's'}"
            ]
          },
          "metadata": {},
          "execution_count": 57
        }
      ]
    },
    {
      "cell_type": "code",
      "source": [
        "def smile_to_int(smile):\n",
        "    encoded_smile = [char_to_int[char] for char in smile]\n",
        "    return encoded_smile\n",
        "\n",
        "\n",
        "def int_to_smile(encoded_smile):\n",
        "    smile = ''.join([int_to_char[i] for i in encoded_smile])\n",
        "    return smile"
      ],
      "metadata": {
        "id": "g0uCnF-MIr2A"
      },
      "execution_count": 58,
      "outputs": []
    },
    {
      "cell_type": "code",
      "source": [
        "df['encoded_smiles'] = df['smiles'].apply(smile_to_int)\n",
        "df['decoded_smiles'] = df['encoded_smiles'].apply(int_to_smile)\n",
        "assert (df['smiles'] == df['decoded_smiles']).all()"
      ],
      "metadata": {
        "id": "8HfmZmDvIw9l"
      },
      "execution_count": 59,
      "outputs": []
    },
    {
      "cell_type": "code",
      "source": [
        "input_sequences = []\n",
        "output_labels = []\n",
        "\n",
        "for encoded_smile in df['encoded_smiles']:\n",
        "    for i in range(1, len(encoded_smile)):\n",
        "        input_sequence = encoded_smile[:i]\n",
        "        output_label = encoded_smile[i]\n",
        "        input_sequences.append(input_sequence)\n",
        "        output_labels.append(output_label)"
      ],
      "metadata": {
        "id": "B0DlqAiDI3Hr"
      },
      "execution_count": 60,
      "outputs": []
    },
    {
      "cell_type": "code",
      "source": [
        "df"
      ],
      "metadata": {
        "id": "EnVIcP0fJc9t",
        "outputId": "838731f9-256f-49aa-8a55-72636235b23d",
        "colab": {
          "base_uri": "https://localhost:8080/",
          "height": 790
        }
      },
      "execution_count": 61,
      "outputs": [
        {
          "output_type": "execute_result",
          "data": {
            "text/plain": [
              "                                                smiles     logP       qed  \\\n",
              "0            CC(C)(C)c1ccc2occ(CC(=O)Nc3ccccc3F)c2c1\\n  5.05060  0.702012   \n",
              "1       C[C@@H]1CC(Nc2cncc(-c3nncn3C)c2)C[C@@H](C)C1\\n  3.11370  0.928975   \n",
              "2    N#Cc1ccc(-c2ccc(O[C@@H](C(=O)N3CCCC3)c3ccccc3)...  4.96778  0.599682   \n",
              "3    CCOC(=O)[C@@H]1CCCN(C(=O)c2nc(-c3ccc(C)cc3)n3c...  4.00022  0.690944   \n",
              "4    N#CC1=C(SCC(=O)Nc2cccc(Cl)c2)N=C([O-])[C@H](C#...  3.60956  0.789027   \n",
              "..                                                 ...      ...       ...   \n",
              "995                       ClCCc1nc2cccnc2n1CCn1cccn1\\n  2.10930  0.672897   \n",
              "996  CC[C@@](C)([C@@H]([NH3+])c1cc(Br)ccc1F)N1CCOCC1\\n  2.37210  0.910031   \n",
              "997  Cc1ccc(NC(=O)c2cc3ccccc3oc2=O)c([N+](=O)[O-])c1\\n  3.26192  0.444910   \n",
              "998  CC1(C)OC[C@H]([C@H]2O[C@@H]3OC(C)(C)O[C@@H]3[C...  0.35910  0.696755   \n",
              "999             Cc1cccc([C@H](CCl)CCC[C@@H]2CCCO2)c1\\n  4.66672  0.650159   \n",
              "\n",
              "          SAS                                     encoded_smiles  \\\n",
              "0    2.084095  [17, 17, 2, 17, 3, 2, 17, 3, 27, 7, 27, 27, 27...   \n",
              "1    3.432004  [17, 24, 17, 15, 15, 19, 26, 7, 17, 17, 2, 21,...   \n",
              "2    2.470633  [21, 1, 17, 27, 7, 27, 27, 27, 2, 5, 27, 8, 27...   \n",
              "3    2.822753  [17, 17, 22, 17, 2, 14, 22, 3, 24, 17, 15, 15,...   \n",
              "4    4.035182  [21, 1, 17, 17, 7, 14, 17, 2, 23, 17, 17, 2, 1...   \n",
              "..        ...                                                ...   \n",
              "995  2.506188  [17, 28, 17, 17, 27, 7, 29, 27, 8, 27, 27, 27,...   \n",
              "996  3.884291  [17, 17, 24, 17, 15, 15, 26, 2, 17, 3, 2, 24, ...   \n",
              "997  1.998848  [17, 27, 7, 27, 27, 27, 2, 21, 17, 2, 14, 22, ...   \n",
              "998  4.270988  [17, 17, 7, 2, 17, 3, 22, 17, 24, 17, 15, 19, ...   \n",
              "999  3.051721  [17, 27, 7, 27, 27, 27, 27, 2, 24, 17, 15, 19,...   \n",
              "\n",
              "                                        decoded_smiles  \n",
              "0            CC(C)(C)c1ccc2occ(CC(=O)Nc3ccccc3F)c2c1\\n  \n",
              "1       C[C@@H]1CC(Nc2cncc(-c3nncn3C)c2)C[C@@H](C)C1\\n  \n",
              "2    N#Cc1ccc(-c2ccc(O[C@@H](C(=O)N3CCCC3)c3ccccc3)...  \n",
              "3    CCOC(=O)[C@@H]1CCCN(C(=O)c2nc(-c3ccc(C)cc3)n3c...  \n",
              "4    N#CC1=C(SCC(=O)Nc2cccc(Cl)c2)N=C([O-])[C@H](C#...  \n",
              "..                                                 ...  \n",
              "995                       ClCCc1nc2cccnc2n1CCn1cccn1\\n  \n",
              "996  CC[C@@](C)([C@@H]([NH3+])c1cc(Br)ccc1F)N1CCOCC1\\n  \n",
              "997  Cc1ccc(NC(=O)c2cc3ccccc3oc2=O)c([N+](=O)[O-])c1\\n  \n",
              "998  CC1(C)OC[C@H]([C@H]2O[C@@H]3OC(C)(C)O[C@@H]3[C...  \n",
              "999             Cc1cccc([C@H](CCl)CCC[C@@H]2CCCO2)c1\\n  \n",
              "\n",
              "[1000 rows x 6 columns]"
            ],
            "text/html": [
              "\n",
              "  <div id=\"df-9901cbf4-e1b1-4778-be6a-6186ab613039\" class=\"colab-df-container\">\n",
              "    <div>\n",
              "<style scoped>\n",
              "    .dataframe tbody tr th:only-of-type {\n",
              "        vertical-align: middle;\n",
              "    }\n",
              "\n",
              "    .dataframe tbody tr th {\n",
              "        vertical-align: top;\n",
              "    }\n",
              "\n",
              "    .dataframe thead th {\n",
              "        text-align: right;\n",
              "    }\n",
              "</style>\n",
              "<table border=\"1\" class=\"dataframe\">\n",
              "  <thead>\n",
              "    <tr style=\"text-align: right;\">\n",
              "      <th></th>\n",
              "      <th>smiles</th>\n",
              "      <th>logP</th>\n",
              "      <th>qed</th>\n",
              "      <th>SAS</th>\n",
              "      <th>encoded_smiles</th>\n",
              "      <th>decoded_smiles</th>\n",
              "    </tr>\n",
              "  </thead>\n",
              "  <tbody>\n",
              "    <tr>\n",
              "      <th>0</th>\n",
              "      <td>CC(C)(C)c1ccc2occ(CC(=O)Nc3ccccc3F)c2c1\\n</td>\n",
              "      <td>5.05060</td>\n",
              "      <td>0.702012</td>\n",
              "      <td>2.084095</td>\n",
              "      <td>[17, 17, 2, 17, 3, 2, 17, 3, 27, 7, 27, 27, 27...</td>\n",
              "      <td>CC(C)(C)c1ccc2occ(CC(=O)Nc3ccccc3F)c2c1\\n</td>\n",
              "    </tr>\n",
              "    <tr>\n",
              "      <th>1</th>\n",
              "      <td>C[C@@H]1CC(Nc2cncc(-c3nncn3C)c2)C[C@@H](C)C1\\n</td>\n",
              "      <td>3.11370</td>\n",
              "      <td>0.928975</td>\n",
              "      <td>3.432004</td>\n",
              "      <td>[17, 24, 17, 15, 15, 19, 26, 7, 17, 17, 2, 21,...</td>\n",
              "      <td>C[C@@H]1CC(Nc2cncc(-c3nncn3C)c2)C[C@@H](C)C1\\n</td>\n",
              "    </tr>\n",
              "    <tr>\n",
              "      <th>2</th>\n",
              "      <td>N#Cc1ccc(-c2ccc(O[C@@H](C(=O)N3CCCC3)c3ccccc3)...</td>\n",
              "      <td>4.96778</td>\n",
              "      <td>0.599682</td>\n",
              "      <td>2.470633</td>\n",
              "      <td>[21, 1, 17, 27, 7, 27, 27, 27, 2, 5, 27, 8, 27...</td>\n",
              "      <td>N#Cc1ccc(-c2ccc(O[C@@H](C(=O)N3CCCC3)c3ccccc3)...</td>\n",
              "    </tr>\n",
              "    <tr>\n",
              "      <th>3</th>\n",
              "      <td>CCOC(=O)[C@@H]1CCCN(C(=O)c2nc(-c3ccc(C)cc3)n3c...</td>\n",
              "      <td>4.00022</td>\n",
              "      <td>0.690944</td>\n",
              "      <td>2.822753</td>\n",
              "      <td>[17, 17, 22, 17, 2, 14, 22, 3, 24, 17, 15, 15,...</td>\n",
              "      <td>CCOC(=O)[C@@H]1CCCN(C(=O)c2nc(-c3ccc(C)cc3)n3c...</td>\n",
              "    </tr>\n",
              "    <tr>\n",
              "      <th>4</th>\n",
              "      <td>N#CC1=C(SCC(=O)Nc2cccc(Cl)c2)N=C([O-])[C@H](C#...</td>\n",
              "      <td>3.60956</td>\n",
              "      <td>0.789027</td>\n",
              "      <td>4.035182</td>\n",
              "      <td>[21, 1, 17, 17, 7, 14, 17, 2, 23, 17, 17, 2, 1...</td>\n",
              "      <td>N#CC1=C(SCC(=O)Nc2cccc(Cl)c2)N=C([O-])[C@H](C#...</td>\n",
              "    </tr>\n",
              "    <tr>\n",
              "      <th>...</th>\n",
              "      <td>...</td>\n",
              "      <td>...</td>\n",
              "      <td>...</td>\n",
              "      <td>...</td>\n",
              "      <td>...</td>\n",
              "      <td>...</td>\n",
              "    </tr>\n",
              "    <tr>\n",
              "      <th>995</th>\n",
              "      <td>ClCCc1nc2cccnc2n1CCn1cccn1\\n</td>\n",
              "      <td>2.10930</td>\n",
              "      <td>0.672897</td>\n",
              "      <td>2.506188</td>\n",
              "      <td>[17, 28, 17, 17, 27, 7, 29, 27, 8, 27, 27, 27,...</td>\n",
              "      <td>ClCCc1nc2cccnc2n1CCn1cccn1\\n</td>\n",
              "    </tr>\n",
              "    <tr>\n",
              "      <th>996</th>\n",
              "      <td>CC[C@@](C)([C@@H]([NH3+])c1cc(Br)ccc1F)N1CCOCC1\\n</td>\n",
              "      <td>2.37210</td>\n",
              "      <td>0.910031</td>\n",
              "      <td>3.884291</td>\n",
              "      <td>[17, 17, 24, 17, 15, 15, 26, 2, 17, 3, 2, 24, ...</td>\n",
              "      <td>CC[C@@](C)([C@@H]([NH3+])c1cc(Br)ccc1F)N1CCOCC1\\n</td>\n",
              "    </tr>\n",
              "    <tr>\n",
              "      <th>997</th>\n",
              "      <td>Cc1ccc(NC(=O)c2cc3ccccc3oc2=O)c([N+](=O)[O-])c1\\n</td>\n",
              "      <td>3.26192</td>\n",
              "      <td>0.444910</td>\n",
              "      <td>1.998848</td>\n",
              "      <td>[17, 27, 7, 27, 27, 27, 2, 21, 17, 2, 14, 22, ...</td>\n",
              "      <td>Cc1ccc(NC(=O)c2cc3ccccc3oc2=O)c([N+](=O)[O-])c1\\n</td>\n",
              "    </tr>\n",
              "    <tr>\n",
              "      <th>998</th>\n",
              "      <td>CC1(C)OC[C@H]([C@H]2O[C@@H]3OC(C)(C)O[C@@H]3[C...</td>\n",
              "      <td>0.35910</td>\n",
              "      <td>0.696755</td>\n",
              "      <td>4.270988</td>\n",
              "      <td>[17, 17, 7, 2, 17, 3, 22, 17, 24, 17, 15, 19, ...</td>\n",
              "      <td>CC1(C)OC[C@H]([C@H]2O[C@@H]3OC(C)(C)O[C@@H]3[C...</td>\n",
              "    </tr>\n",
              "    <tr>\n",
              "      <th>999</th>\n",
              "      <td>Cc1cccc([C@H](CCl)CCC[C@@H]2CCCO2)c1\\n</td>\n",
              "      <td>4.66672</td>\n",
              "      <td>0.650159</td>\n",
              "      <td>3.051721</td>\n",
              "      <td>[17, 27, 7, 27, 27, 27, 27, 2, 24, 17, 15, 19,...</td>\n",
              "      <td>Cc1cccc([C@H](CCl)CCC[C@@H]2CCCO2)c1\\n</td>\n",
              "    </tr>\n",
              "  </tbody>\n",
              "</table>\n",
              "<p>1000 rows × 6 columns</p>\n",
              "</div>\n",
              "    <div class=\"colab-df-buttons\">\n",
              "\n",
              "  <div class=\"colab-df-container\">\n",
              "    <button class=\"colab-df-convert\" onclick=\"convertToInteractive('df-9901cbf4-e1b1-4778-be6a-6186ab613039')\"\n",
              "            title=\"Convert this dataframe to an interactive table.\"\n",
              "            style=\"display:none;\">\n",
              "\n",
              "  <svg xmlns=\"http://www.w3.org/2000/svg\" height=\"24px\" viewBox=\"0 -960 960 960\">\n",
              "    <path d=\"M120-120v-720h720v720H120Zm60-500h600v-160H180v160Zm220 220h160v-160H400v160Zm0 220h160v-160H400v160ZM180-400h160v-160H180v160Zm440 0h160v-160H620v160ZM180-180h160v-160H180v160Zm440 0h160v-160H620v160Z\"/>\n",
              "  </svg>\n",
              "    </button>\n",
              "\n",
              "  <style>\n",
              "    .colab-df-container {\n",
              "      display:flex;\n",
              "      gap: 12px;\n",
              "    }\n",
              "\n",
              "    .colab-df-convert {\n",
              "      background-color: #E8F0FE;\n",
              "      border: none;\n",
              "      border-radius: 50%;\n",
              "      cursor: pointer;\n",
              "      display: none;\n",
              "      fill: #1967D2;\n",
              "      height: 32px;\n",
              "      padding: 0 0 0 0;\n",
              "      width: 32px;\n",
              "    }\n",
              "\n",
              "    .colab-df-convert:hover {\n",
              "      background-color: #E2EBFA;\n",
              "      box-shadow: 0px 1px 2px rgba(60, 64, 67, 0.3), 0px 1px 3px 1px rgba(60, 64, 67, 0.15);\n",
              "      fill: #174EA6;\n",
              "    }\n",
              "\n",
              "    .colab-df-buttons div {\n",
              "      margin-bottom: 4px;\n",
              "    }\n",
              "\n",
              "    [theme=dark] .colab-df-convert {\n",
              "      background-color: #3B4455;\n",
              "      fill: #D2E3FC;\n",
              "    }\n",
              "\n",
              "    [theme=dark] .colab-df-convert:hover {\n",
              "      background-color: #434B5C;\n",
              "      box-shadow: 0px 1px 3px 1px rgba(0, 0, 0, 0.15);\n",
              "      filter: drop-shadow(0px 1px 2px rgba(0, 0, 0, 0.3));\n",
              "      fill: #FFFFFF;\n",
              "    }\n",
              "  </style>\n",
              "\n",
              "    <script>\n",
              "      const buttonEl =\n",
              "        document.querySelector('#df-9901cbf4-e1b1-4778-be6a-6186ab613039 button.colab-df-convert');\n",
              "      buttonEl.style.display =\n",
              "        google.colab.kernel.accessAllowed ? 'block' : 'none';\n",
              "\n",
              "      async function convertToInteractive(key) {\n",
              "        const element = document.querySelector('#df-9901cbf4-e1b1-4778-be6a-6186ab613039');\n",
              "        const dataTable =\n",
              "          await google.colab.kernel.invokeFunction('convertToInteractive',\n",
              "                                                    [key], {});\n",
              "        if (!dataTable) return;\n",
              "\n",
              "        const docLinkHtml = 'Like what you see? Visit the ' +\n",
              "          '<a target=\"_blank\" href=https://colab.research.google.com/notebooks/data_table.ipynb>data table notebook</a>'\n",
              "          + ' to learn more about interactive tables.';\n",
              "        element.innerHTML = '';\n",
              "        dataTable['output_type'] = 'display_data';\n",
              "        await google.colab.output.renderOutput(dataTable, element);\n",
              "        const docLink = document.createElement('div');\n",
              "        docLink.innerHTML = docLinkHtml;\n",
              "        element.appendChild(docLink);\n",
              "      }\n",
              "    </script>\n",
              "  </div>\n",
              "\n",
              "\n",
              "<div id=\"df-9bdf0142-d079-460b-a316-6fd16468004e\">\n",
              "  <button class=\"colab-df-quickchart\" onclick=\"quickchart('df-9bdf0142-d079-460b-a316-6fd16468004e')\"\n",
              "            title=\"Suggest charts\"\n",
              "            style=\"display:none;\">\n",
              "\n",
              "<svg xmlns=\"http://www.w3.org/2000/svg\" height=\"24px\"viewBox=\"0 0 24 24\"\n",
              "     width=\"24px\">\n",
              "    <g>\n",
              "        <path d=\"M19 3H5c-1.1 0-2 .9-2 2v14c0 1.1.9 2 2 2h14c1.1 0 2-.9 2-2V5c0-1.1-.9-2-2-2zM9 17H7v-7h2v7zm4 0h-2V7h2v10zm4 0h-2v-4h2v4z\"/>\n",
              "    </g>\n",
              "</svg>\n",
              "  </button>\n",
              "\n",
              "<style>\n",
              "  .colab-df-quickchart {\n",
              "      --bg-color: #E8F0FE;\n",
              "      --fill-color: #1967D2;\n",
              "      --hover-bg-color: #E2EBFA;\n",
              "      --hover-fill-color: #174EA6;\n",
              "      --disabled-fill-color: #AAA;\n",
              "      --disabled-bg-color: #DDD;\n",
              "  }\n",
              "\n",
              "  [theme=dark] .colab-df-quickchart {\n",
              "      --bg-color: #3B4455;\n",
              "      --fill-color: #D2E3FC;\n",
              "      --hover-bg-color: #434B5C;\n",
              "      --hover-fill-color: #FFFFFF;\n",
              "      --disabled-bg-color: #3B4455;\n",
              "      --disabled-fill-color: #666;\n",
              "  }\n",
              "\n",
              "  .colab-df-quickchart {\n",
              "    background-color: var(--bg-color);\n",
              "    border: none;\n",
              "    border-radius: 50%;\n",
              "    cursor: pointer;\n",
              "    display: none;\n",
              "    fill: var(--fill-color);\n",
              "    height: 32px;\n",
              "    padding: 0;\n",
              "    width: 32px;\n",
              "  }\n",
              "\n",
              "  .colab-df-quickchart:hover {\n",
              "    background-color: var(--hover-bg-color);\n",
              "    box-shadow: 0 1px 2px rgba(60, 64, 67, 0.3), 0 1px 3px 1px rgba(60, 64, 67, 0.15);\n",
              "    fill: var(--button-hover-fill-color);\n",
              "  }\n",
              "\n",
              "  .colab-df-quickchart-complete:disabled,\n",
              "  .colab-df-quickchart-complete:disabled:hover {\n",
              "    background-color: var(--disabled-bg-color);\n",
              "    fill: var(--disabled-fill-color);\n",
              "    box-shadow: none;\n",
              "  }\n",
              "\n",
              "  .colab-df-spinner {\n",
              "    border: 2px solid var(--fill-color);\n",
              "    border-color: transparent;\n",
              "    border-bottom-color: var(--fill-color);\n",
              "    animation:\n",
              "      spin 1s steps(1) infinite;\n",
              "  }\n",
              "\n",
              "  @keyframes spin {\n",
              "    0% {\n",
              "      border-color: transparent;\n",
              "      border-bottom-color: var(--fill-color);\n",
              "      border-left-color: var(--fill-color);\n",
              "    }\n",
              "    20% {\n",
              "      border-color: transparent;\n",
              "      border-left-color: var(--fill-color);\n",
              "      border-top-color: var(--fill-color);\n",
              "    }\n",
              "    30% {\n",
              "      border-color: transparent;\n",
              "      border-left-color: var(--fill-color);\n",
              "      border-top-color: var(--fill-color);\n",
              "      border-right-color: var(--fill-color);\n",
              "    }\n",
              "    40% {\n",
              "      border-color: transparent;\n",
              "      border-right-color: var(--fill-color);\n",
              "      border-top-color: var(--fill-color);\n",
              "    }\n",
              "    60% {\n",
              "      border-color: transparent;\n",
              "      border-right-color: var(--fill-color);\n",
              "    }\n",
              "    80% {\n",
              "      border-color: transparent;\n",
              "      border-right-color: var(--fill-color);\n",
              "      border-bottom-color: var(--fill-color);\n",
              "    }\n",
              "    90% {\n",
              "      border-color: transparent;\n",
              "      border-bottom-color: var(--fill-color);\n",
              "    }\n",
              "  }\n",
              "</style>\n",
              "\n",
              "  <script>\n",
              "    async function quickchart(key) {\n",
              "      const quickchartButtonEl =\n",
              "        document.querySelector('#' + key + ' button');\n",
              "      quickchartButtonEl.disabled = true;  // To prevent multiple clicks.\n",
              "      quickchartButtonEl.classList.add('colab-df-spinner');\n",
              "      try {\n",
              "        const charts = await google.colab.kernel.invokeFunction(\n",
              "            'suggestCharts', [key], {});\n",
              "      } catch (error) {\n",
              "        console.error('Error during call to suggestCharts:', error);\n",
              "      }\n",
              "      quickchartButtonEl.classList.remove('colab-df-spinner');\n",
              "      quickchartButtonEl.classList.add('colab-df-quickchart-complete');\n",
              "    }\n",
              "    (() => {\n",
              "      let quickchartButtonEl =\n",
              "        document.querySelector('#df-9bdf0142-d079-460b-a316-6fd16468004e button');\n",
              "      quickchartButtonEl.style.display =\n",
              "        google.colab.kernel.accessAllowed ? 'block' : 'none';\n",
              "    })();\n",
              "  </script>\n",
              "</div>\n",
              "\n",
              "  <div id=\"id_ada9fc6c-58d2-4636-a419-1812926a308b\">\n",
              "    <style>\n",
              "      .colab-df-generate {\n",
              "        background-color: #E8F0FE;\n",
              "        border: none;\n",
              "        border-radius: 50%;\n",
              "        cursor: pointer;\n",
              "        display: none;\n",
              "        fill: #1967D2;\n",
              "        height: 32px;\n",
              "        padding: 0 0 0 0;\n",
              "        width: 32px;\n",
              "      }\n",
              "\n",
              "      .colab-df-generate:hover {\n",
              "        background-color: #E2EBFA;\n",
              "        box-shadow: 0px 1px 2px rgba(60, 64, 67, 0.3), 0px 1px 3px 1px rgba(60, 64, 67, 0.15);\n",
              "        fill: #174EA6;\n",
              "      }\n",
              "\n",
              "      [theme=dark] .colab-df-generate {\n",
              "        background-color: #3B4455;\n",
              "        fill: #D2E3FC;\n",
              "      }\n",
              "\n",
              "      [theme=dark] .colab-df-generate:hover {\n",
              "        background-color: #434B5C;\n",
              "        box-shadow: 0px 1px 3px 1px rgba(0, 0, 0, 0.15);\n",
              "        filter: drop-shadow(0px 1px 2px rgba(0, 0, 0, 0.3));\n",
              "        fill: #FFFFFF;\n",
              "      }\n",
              "    </style>\n",
              "    <button class=\"colab-df-generate\" onclick=\"generateWithVariable('df')\"\n",
              "            title=\"Generate code using this dataframe.\"\n",
              "            style=\"display:none;\">\n",
              "\n",
              "  <svg xmlns=\"http://www.w3.org/2000/svg\" height=\"24px\"viewBox=\"0 0 24 24\"\n",
              "       width=\"24px\">\n",
              "    <path d=\"M7,19H8.4L18.45,9,17,7.55,7,17.6ZM5,21V16.75L18.45,3.32a2,2,0,0,1,2.83,0l1.4,1.43a1.91,1.91,0,0,1,.58,1.4,1.91,1.91,0,0,1-.58,1.4L9.25,21ZM18.45,9,17,7.55Zm-12,3A5.31,5.31,0,0,0,4.9,8.1,5.31,5.31,0,0,0,1,6.5,5.31,5.31,0,0,0,4.9,4.9,5.31,5.31,0,0,0,6.5,1,5.31,5.31,0,0,0,8.1,4.9,5.31,5.31,0,0,0,12,6.5,5.46,5.46,0,0,0,6.5,12Z\"/>\n",
              "  </svg>\n",
              "    </button>\n",
              "    <script>\n",
              "      (() => {\n",
              "      const buttonEl =\n",
              "        document.querySelector('#id_ada9fc6c-58d2-4636-a419-1812926a308b button.colab-df-generate');\n",
              "      buttonEl.style.display =\n",
              "        google.colab.kernel.accessAllowed ? 'block' : 'none';\n",
              "\n",
              "      buttonEl.onclick = () => {\n",
              "        google.colab.notebook.generateWithVariable('df');\n",
              "      }\n",
              "      })();\n",
              "    </script>\n",
              "  </div>\n",
              "\n",
              "    </div>\n",
              "  </div>\n"
            ],
            "application/vnd.google.colaboratory.intrinsic+json": {
              "type": "dataframe",
              "variable_name": "df",
              "summary": "{\n  \"name\": \"df\",\n  \"rows\": 1000,\n  \"fields\": [\n    {\n      \"column\": \"smiles\",\n      \"properties\": {\n        \"dtype\": \"string\",\n        \"num_unique_values\": 1000,\n        \"samples\": [\n          \"N#Cc1ccc(OC2CCC(NC(=O)c3ccc[nH]3)CC2)nc1\\n\",\n          \"Cc1ccc(F)c(C[NH+]2CCC(C(=O)NC(C)C)CC2)c1\\n\",\n          \"CCc1ccc(/C=C(\\\\C#N)C(N)=O)s1\\n\"\n        ],\n        \"semantic_type\": \"\",\n        \"description\": \"\"\n      }\n    },\n    {\n      \"column\": \"logP\",\n      \"properties\": {\n        \"dtype\": \"number\",\n        \"std\": 1.4736462511891064,\n        \"min\": -2.9468,\n        \"max\": 6.15252,\n        \"num_unique_values\": 995,\n        \"samples\": [\n          3.01694,\n          4.3819,\n          2.7385\n        ],\n        \"semantic_type\": \"\",\n        \"description\": \"\"\n      }\n    },\n    {\n      \"column\": \"qed\",\n      \"properties\": {\n        \"dtype\": \"number\",\n        \"std\": 0.14056536453573196,\n        \"min\": 0.159707353629,\n        \"max\": 0.944291701836,\n        \"num_unique_values\": 1000,\n        \"samples\": [\n          0.907163732834,\n          0.874209941904,\n          0.608641728564\n        ],\n        \"semantic_type\": \"\",\n        \"description\": \"\"\n      }\n    },\n    {\n      \"column\": \"SAS\",\n      \"properties\": {\n        \"dtype\": \"number\",\n        \"std\": 0.8013742587844209,\n        \"min\": 1.6177473510713265,\n        \"max\": 5.968905818013142,\n        \"num_unique_values\": 1000,\n        \"samples\": [\n          2.567054813157532,\n          3.4253751854189067,\n          2.6732769419674405\n        ],\n        \"semantic_type\": \"\",\n        \"description\": \"\"\n      }\n    },\n    {\n      \"column\": \"encoded_smiles\",\n      \"properties\": {\n        \"dtype\": \"object\",\n        \"semantic_type\": \"\",\n        \"description\": \"\"\n      }\n    },\n    {\n      \"column\": \"decoded_smiles\",\n      \"properties\": {\n        \"dtype\": \"string\",\n        \"num_unique_values\": 1000,\n        \"samples\": [\n          \"N#Cc1ccc(OC2CCC(NC(=O)c3ccc[nH]3)CC2)nc1\\n\",\n          \"Cc1ccc(F)c(C[NH+]2CCC(C(=O)NC(C)C)CC2)c1\\n\",\n          \"CCc1ccc(/C=C(\\\\C#N)C(N)=O)s1\\n\"\n        ],\n        \"semantic_type\": \"\",\n        \"description\": \"\"\n      }\n    }\n  ]\n}"
            }
          },
          "metadata": {},
          "execution_count": 61
        }
      ]
    },
    {
      "cell_type": "markdown",
      "metadata": {
        "id": "WslG8yFgCnTb"
      },
      "source": [
        "## Building the dataset\n",
        "\n",
        "Now we will create the dataset so that it has the good share for our Keras LSTM model\n",
        "\n",
        "Remember Keras recurrent models expect a 3D array with shapes (n_examples, seq_len, n_features)\n",
        "\n"
      ]
    },
    {
      "cell_type": "markdown",
      "metadata": {
        "id": "zmd8p-4nCnTc"
      },
      "source": [
        "What will be n_features in our case ?"
      ]
    },
    {
      "cell_type": "markdown",
      "metadata": {
        "id": "eGNdRmC3CnTc"
      },
      "source": [
        "n_features will be 1.\n",
        "\n",
        "Each element in the input sequence is a single integer representing a character.  The RNN processes these integer representations one at a time.\n"
      ]
    },
    {
      "cell_type": "markdown",
      "metadata": {
        "id": "PFKS4QW4CnTc"
      },
      "source": [
        "Code a function **build_X_and_y(string, i_char, seq_lenght)** which takes a string, a **seq_length** number and a position.\n",
        "\n",
        "\n",
        "It should create X by by getting all character between i and i + seq_length\n",
        "and create y by getting the character following the X sequence\n",
        "it returns X and y"
      ]
    },
    {
      "cell_type": "markdown",
      "metadata": {
        "id": "U8A3Al7oCnTc"
      },
      "source": [
        "Test your function on the following string \"\" with seq_length = 4 and i = [1, 2, 3]"
      ]
    },
    {
      "cell_type": "code",
      "execution_count": 62,
      "metadata": {
        "id": "hUjVXcDzCnTc",
        "outputId": "c6f0260c-00c4-4b36-bd9e-3ccd59a6eecc",
        "colab": {
          "base_uri": "https://localhost:8080/"
        }
      },
      "outputs": [
        {
          "output_type": "execute_result",
          "data": {
            "text/plain": [
              "('esti', 'c')"
            ]
          },
          "metadata": {},
          "execution_count": 62
        }
      ],
      "source": [
        "def build_X_and_y(string, i_char, seq_length):\n",
        "    X = string[i_char:i_char + seq_length]\n",
        "    y = string[i_char + seq_length]\n",
        "    return X, y\n",
        "\n",
        "\n",
        "build_X_and_y(\"testicules\", i_char=1, seq_length=4)"
      ]
    },
    {
      "cell_type": "markdown",
      "metadata": {
        "id": "hCKBZhoFCnTc"
      },
      "source": [
        "By using build_X_and_y and map_char_to_int build a list nameed X_train and a list named y_train"
      ]
    },
    {
      "cell_type": "code",
      "execution_count": 88,
      "metadata": {
        "id": "AA7PR_30CnTc"
      },
      "outputs": [],
      "source": [
        "X_train, y_train = [], []\n",
        "for smiles in df['smiles']:\n",
        "  max_len = len(smiles)\n",
        "  for i in range(max_len - 1):\n",
        "      X, y = build_X_and_y(smiles, 0, i)\n",
        "      X = [char_to_int[char] for char in X]\n",
        "      y = char_to_int[y]\n",
        "      X_train.append(X)\n",
        "      y_train.append(y)"
      ]
    },
    {
      "cell_type": "markdown",
      "metadata": {
        "id": "2me6pJ7kCnTc"
      },
      "source": [
        "Create numpy arrays from the lists"
      ]
    },
    {
      "cell_type": "code",
      "source": [
        "from tensorflow.keras.preprocessing.sequence import pad_sequences"
      ],
      "metadata": {
        "id": "HIqAF6asOyaW"
      },
      "execution_count": 93,
      "outputs": []
    },
    {
      "cell_type": "code",
      "source": [
        "X_train = pad_sequences(X_train, padding='pre')"
      ],
      "metadata": {
        "id": "44ZQQZg9O2S8"
      },
      "execution_count": 94,
      "outputs": []
    },
    {
      "cell_type": "code",
      "execution_count": 95,
      "metadata": {
        "id": "gQmNjEvkCnTc"
      },
      "outputs": [],
      "source": [
        "X_train = np.array(X_train)\n",
        "y_train = np.array(y_train)"
      ]
    },
    {
      "cell_type": "markdown",
      "metadata": {
        "id": "Cm7je6JFCnTc"
      },
      "source": [
        "Reshape the X numpy array (n_examples, seq_lenght, 1)"
      ]
    },
    {
      "cell_type": "code",
      "execution_count": 97,
      "metadata": {
        "id": "a9WWvdTPCnTc",
        "outputId": "c1449386-4289-4123-fc65-05261e6b592b",
        "colab": {
          "base_uri": "https://localhost:8080/"
        }
      },
      "outputs": [
        {
          "output_type": "execute_result",
          "data": {
            "text/plain": [
              "(44242, 104, 1)"
            ]
          },
          "metadata": {},
          "execution_count": 97
        }
      ],
      "source": [
        "X_train = X_train.reshape(X_train.shape[0], X_train.shape[1], 1)\n",
        "X_train.shape"
      ]
    },
    {
      "cell_type": "markdown",
      "metadata": {
        "id": "spJLBmAxCnTc"
      },
      "source": [
        "Normalize X by dividing each values by the total number of unic characters"
      ]
    },
    {
      "cell_type": "code",
      "source": [
        "X_train = X_train / len(unique_chars)\n",
        "X_train"
      ],
      "metadata": {
        "id": "NN_xgQ-pPRJC",
        "outputId": "f36ac0c6-3550-4392-9fbc-bb94b0764c45",
        "colab": {
          "base_uri": "https://localhost:8080/"
        }
      },
      "execution_count": 99,
      "outputs": [
        {
          "output_type": "execute_result",
          "data": {
            "text/plain": [
              "array([[[0.        ],\n",
              "        [0.        ],\n",
              "        [0.        ],\n",
              "        ...,\n",
              "        [0.        ],\n",
              "        [0.        ],\n",
              "        [0.        ]],\n",
              "\n",
              "       [[0.        ],\n",
              "        [0.        ],\n",
              "        [0.        ],\n",
              "        ...,\n",
              "        [0.        ],\n",
              "        [0.        ],\n",
              "        [0.51515152]],\n",
              "\n",
              "       [[0.        ],\n",
              "        [0.        ],\n",
              "        [0.        ],\n",
              "        ...,\n",
              "        [0.        ],\n",
              "        [0.51515152],\n",
              "        [0.51515152]],\n",
              "\n",
              "       ...,\n",
              "\n",
              "       [[0.        ],\n",
              "        [0.        ],\n",
              "        [0.        ],\n",
              "        ...,\n",
              "        [0.51515152],\n",
              "        [0.66666667],\n",
              "        [0.24242424]],\n",
              "\n",
              "       [[0.        ],\n",
              "        [0.        ],\n",
              "        [0.        ],\n",
              "        ...,\n",
              "        [0.66666667],\n",
              "        [0.24242424],\n",
              "        [0.09090909]],\n",
              "\n",
              "       [[0.        ],\n",
              "        [0.        ],\n",
              "        [0.        ],\n",
              "        ...,\n",
              "        [0.24242424],\n",
              "        [0.09090909],\n",
              "        [0.81818182]]])"
            ]
          },
          "metadata": {},
          "execution_count": 99
        }
      ]
    },
    {
      "cell_type": "markdown",
      "metadata": {
        "id": "zuF0aWbiCnTc"
      },
      "source": [
        "Import Keras and build (at least) a two layered LSTM network with 128 neurone in each.\n",
        "\n",
        "You can also add Dropoutlayers\n",
        "\n",
        "Do you think you should use the return_sequences = True ? If yes, when ?\n",
        "\n",
        "\n",
        "Add a Dense layer on top with with the appropriate activation function and number of neurones\n"
      ]
    },
    {
      "cell_type": "code",
      "execution_count": 101,
      "metadata": {
        "id": "3zmXFChJCnTd",
        "outputId": "891be997-e555-4a89-f2b2-bcac1eccd97d",
        "colab": {
          "base_uri": "https://localhost:8080/"
        }
      },
      "outputs": [
        {
          "output_type": "stream",
          "name": "stderr",
          "text": [
            "/usr/local/lib/python3.10/dist-packages/keras/src/layers/rnn/rnn.py:204: UserWarning: Do not pass an `input_shape`/`input_dim` argument to a layer. When using Sequential models, prefer using an `Input(shape)` object as the first layer in the model instead.\n",
            "  super().__init__(**kwargs)\n"
          ]
        }
      ],
      "source": [
        "import tensorflow as tf\n",
        "from tensorflow.keras.models import Sequential\n",
        "from tensorflow.keras.layers import Dense, LSTM, Dropout\n",
        "\n",
        "\n",
        "def build_model(seq_length):\n",
        "    model = Sequential()\n",
        "    model.add(LSTM(128, input_shape=(seq_length, 1), return_sequences=True))\n",
        "    model.add(Dropout(0.2))\n",
        "    model.add(LSTM(128))\n",
        "    model.add(Dropout(0.2))\n",
        "    model.add(Dense(len(unique_chars), activation='softmax'))\n",
        "    return model\n",
        "\n",
        "\n",
        "model = build_model(X_train.shape[1])"
      ]
    },
    {
      "cell_type": "markdown",
      "metadata": {
        "id": "60k-z3mJCnTd"
      },
      "source": [
        "Compile the model with the appropriate loss function and the adam optimizer"
      ]
    },
    {
      "cell_type": "code",
      "execution_count": 102,
      "metadata": {
        "id": "xr9owIZxCnTd"
      },
      "outputs": [],
      "source": [
        "model.compile(loss='sparse_categorical_crossentropy', optimizer='adam')"
      ]
    },
    {
      "cell_type": "markdown",
      "metadata": {
        "id": "E4Rq4G1YCnTd"
      },
      "source": [
        "Train the model on 20 epochs and 10 examples (yeah you read correctly) and check that the model overfits !"
      ]
    },
    {
      "cell_type": "code",
      "execution_count": 103,
      "metadata": {
        "id": "kg4zhjjmCnTd",
        "outputId": "b03ec2de-7dca-477d-f922-4cf1b5a8111c",
        "colab": {
          "base_uri": "https://localhost:8080/"
        }
      },
      "outputs": [
        {
          "output_type": "stream",
          "name": "stdout",
          "text": [
            "Epoch 1/20\n",
            "\u001b[1m1/1\u001b[0m \u001b[32m━━━━━━━━━━━━━━━━━━━━\u001b[0m\u001b[37m\u001b[0m \u001b[1m3s\u001b[0m 3s/step - loss: 3.4996\n",
            "Epoch 2/20\n",
            "\u001b[1m1/1\u001b[0m \u001b[32m━━━━━━━━━━━━━━━━━━━━\u001b[0m\u001b[37m\u001b[0m \u001b[1m0s\u001b[0m 188ms/step - loss: 3.4725\n",
            "Epoch 3/20\n",
            "\u001b[1m1/1\u001b[0m \u001b[32m━━━━━━━━━━━━━━━━━━━━\u001b[0m\u001b[37m\u001b[0m \u001b[1m0s\u001b[0m 176ms/step - loss: 3.4558\n",
            "Epoch 4/20\n",
            "\u001b[1m1/1\u001b[0m \u001b[32m━━━━━━━━━━━━━━━━━━━━\u001b[0m\u001b[37m\u001b[0m \u001b[1m0s\u001b[0m 287ms/step - loss: 3.4282\n",
            "Epoch 5/20\n",
            "\u001b[1m1/1\u001b[0m \u001b[32m━━━━━━━━━━━━━━━━━━━━\u001b[0m\u001b[37m\u001b[0m \u001b[1m0s\u001b[0m 160ms/step - loss: 3.3942\n",
            "Epoch 6/20\n",
            "\u001b[1m1/1\u001b[0m \u001b[32m━━━━━━━━━━━━━━━━━━━━\u001b[0m\u001b[37m\u001b[0m \u001b[1m0s\u001b[0m 164ms/step - loss: 3.3339\n",
            "Epoch 7/20\n",
            "\u001b[1m1/1\u001b[0m \u001b[32m━━━━━━━━━━━━━━━━━━━━\u001b[0m\u001b[37m\u001b[0m \u001b[1m0s\u001b[0m 307ms/step - loss: 3.2616\n",
            "Epoch 8/20\n",
            "\u001b[1m1/1\u001b[0m \u001b[32m━━━━━━━━━━━━━━━━━━━━\u001b[0m\u001b[37m\u001b[0m \u001b[1m0s\u001b[0m 288ms/step - loss: 3.0505\n",
            "Epoch 9/20\n",
            "\u001b[1m1/1\u001b[0m \u001b[32m━━━━━━━━━━━━━━━━━━━━\u001b[0m\u001b[37m\u001b[0m \u001b[1m0s\u001b[0m 158ms/step - loss: 2.6794\n",
            "Epoch 10/20\n",
            "\u001b[1m1/1\u001b[0m \u001b[32m━━━━━━━━━━━━━━━━━━━━\u001b[0m\u001b[37m\u001b[0m \u001b[1m0s\u001b[0m 153ms/step - loss: 2.1625\n",
            "Epoch 11/20\n",
            "\u001b[1m1/1\u001b[0m \u001b[32m━━━━━━━━━━━━━━━━━━━━\u001b[0m\u001b[37m\u001b[0m \u001b[1m0s\u001b[0m 160ms/step - loss: 2.0047\n",
            "Epoch 12/20\n",
            "\u001b[1m1/1\u001b[0m \u001b[32m━━━━━━━━━━━━━━━━━━━━\u001b[0m\u001b[37m\u001b[0m \u001b[1m0s\u001b[0m 158ms/step - loss: 1.9254\n",
            "Epoch 13/20\n",
            "\u001b[1m1/1\u001b[0m \u001b[32m━━━━━━━━━━━━━━━━━━━━\u001b[0m\u001b[37m\u001b[0m \u001b[1m0s\u001b[0m 191ms/step - loss: 1.7831\n",
            "Epoch 14/20\n",
            "\u001b[1m1/1\u001b[0m \u001b[32m━━━━━━━━━━━━━━━━━━━━\u001b[0m\u001b[37m\u001b[0m \u001b[1m0s\u001b[0m 275ms/step - loss: 1.6349\n",
            "Epoch 15/20\n",
            "\u001b[1m1/1\u001b[0m \u001b[32m━━━━━━━━━━━━━━━━━━━━\u001b[0m\u001b[37m\u001b[0m \u001b[1m0s\u001b[0m 153ms/step - loss: 1.8488\n",
            "Epoch 16/20\n",
            "\u001b[1m1/1\u001b[0m \u001b[32m━━━━━━━━━━━━━━━━━━━━\u001b[0m\u001b[37m\u001b[0m \u001b[1m0s\u001b[0m 161ms/step - loss: 1.6125\n",
            "Epoch 17/20\n",
            "\u001b[1m1/1\u001b[0m \u001b[32m━━━━━━━━━━━━━━━━━━━━\u001b[0m\u001b[37m\u001b[0m \u001b[1m0s\u001b[0m 158ms/step - loss: 1.8839\n",
            "Epoch 18/20\n",
            "\u001b[1m1/1\u001b[0m \u001b[32m━━━━━━━━━━━━━━━━━━━━\u001b[0m\u001b[37m\u001b[0m \u001b[1m0s\u001b[0m 299ms/step - loss: 1.6591\n",
            "Epoch 19/20\n",
            "\u001b[1m1/1\u001b[0m \u001b[32m━━━━━━━━━━━━━━━━━━━━\u001b[0m\u001b[37m\u001b[0m \u001b[1m0s\u001b[0m 311ms/step - loss: 1.5490\n",
            "Epoch 20/20\n",
            "\u001b[1m1/1\u001b[0m \u001b[32m━━━━━━━━━━━━━━━━━━━━\u001b[0m\u001b[37m\u001b[0m \u001b[1m0s\u001b[0m 298ms/step - loss: 1.6975\n"
          ]
        },
        {
          "output_type": "execute_result",
          "data": {
            "text/plain": [
              "<keras.src.callbacks.history.History at 0x7f6cc0104400>"
            ]
          },
          "metadata": {},
          "execution_count": 103
        }
      ],
      "source": [
        "model.fit(X_train[:10], y_train[:10], epochs=20, batch_size=10)"
      ]
    },
    {
      "cell_type": "markdown",
      "metadata": {
        "id": "PiTm3xIpCnTd"
      },
      "source": [
        "If it does not overfit try to fix data prep and model architecture so it does"
      ]
    },
    {
      "cell_type": "code",
      "execution_count": 107,
      "metadata": {
        "id": "F7ez1XFkCnTd",
        "outputId": "73dda5fc-325d-458d-956e-105fff4a0972",
        "colab": {
          "base_uri": "https://localhost:8080/"
        }
      },
      "outputs": [
        {
          "output_type": "stream",
          "name": "stdout",
          "text": [
            "Epoch 1/20\n",
            "\u001b[1m10/10\u001b[0m \u001b[32m━━━━━━━━━━━━━━━━━━━━\u001b[0m\u001b[37m\u001b[0m \u001b[1m5s\u001b[0m 202ms/step - loss: 3.4824\n",
            "Epoch 2/20\n",
            "\u001b[1m10/10\u001b[0m \u001b[32m━━━━━━━━━━━━━━━━━━━━\u001b[0m\u001b[37m\u001b[0m \u001b[1m2s\u001b[0m 100ms/step - loss: 2.9019\n",
            "Epoch 3/20\n",
            "\u001b[1m10/10\u001b[0m \u001b[32m━━━━━━━━━━━━━━━━━━━━\u001b[0m\u001b[37m\u001b[0m \u001b[1m1s\u001b[0m 97ms/step - loss: 1.6286\n",
            "Epoch 4/20\n",
            "\u001b[1m10/10\u001b[0m \u001b[32m━━━━━━━━━━━━━━━━━━━━\u001b[0m\u001b[37m\u001b[0m \u001b[1m1s\u001b[0m 102ms/step - loss: 1.4950\n",
            "Epoch 5/20\n",
            "\u001b[1m10/10\u001b[0m \u001b[32m━━━━━━━━━━━━━━━━━━━━\u001b[0m\u001b[37m\u001b[0m \u001b[1m1s\u001b[0m 101ms/step - loss: 1.9145\n",
            "Epoch 6/20\n",
            "\u001b[1m10/10\u001b[0m \u001b[32m━━━━━━━━━━━━━━━━━━━━\u001b[0m\u001b[37m\u001b[0m \u001b[1m1s\u001b[0m 101ms/step - loss: 1.8157\n",
            "Epoch 7/20\n",
            "\u001b[1m10/10\u001b[0m \u001b[32m━━━━━━━━━━━━━━━━━━━━\u001b[0m\u001b[37m\u001b[0m \u001b[1m1s\u001b[0m 102ms/step - loss: 1.6987\n",
            "Epoch 8/20\n",
            "\u001b[1m10/10\u001b[0m \u001b[32m━━━━━━━━━━━━━━━━━━━━\u001b[0m\u001b[37m\u001b[0m \u001b[1m1s\u001b[0m 101ms/step - loss: 1.6029\n",
            "Epoch 9/20\n",
            "\u001b[1m10/10\u001b[0m \u001b[32m━━━━━━━━━━━━━━━━━━━━\u001b[0m\u001b[37m\u001b[0m \u001b[1m1s\u001b[0m 104ms/step - loss: 1.4778\n",
            "Epoch 10/20\n",
            "\u001b[1m10/10\u001b[0m \u001b[32m━━━━━━━━━━━━━━━━━━━━\u001b[0m\u001b[37m\u001b[0m \u001b[1m1s\u001b[0m 114ms/step - loss: 1.2387\n",
            "Epoch 11/20\n",
            "\u001b[1m10/10\u001b[0m \u001b[32m━━━━━━━━━━━━━━━━━━━━\u001b[0m\u001b[37m\u001b[0m \u001b[1m2s\u001b[0m 186ms/step - loss: 1.8256\n",
            "Epoch 12/20\n",
            "\u001b[1m10/10\u001b[0m \u001b[32m━━━━━━━━━━━━━━━━━━━━\u001b[0m\u001b[37m\u001b[0m \u001b[1m2s\u001b[0m 102ms/step - loss: 1.6838\n",
            "Epoch 13/20\n",
            "\u001b[1m10/10\u001b[0m \u001b[32m━━━━━━━━━━━━━━━━━━━━\u001b[0m\u001b[37m\u001b[0m \u001b[1m1s\u001b[0m 101ms/step - loss: 1.3680\n",
            "Epoch 14/20\n",
            "\u001b[1m10/10\u001b[0m \u001b[32m━━━━━━━━━━━━━━━━━━━━\u001b[0m\u001b[37m\u001b[0m \u001b[1m1s\u001b[0m 102ms/step - loss: 1.3400\n",
            "Epoch 15/20\n",
            "\u001b[1m10/10\u001b[0m \u001b[32m━━━━━━━━━━━━━━━━━━━━\u001b[0m\u001b[37m\u001b[0m \u001b[1m1s\u001b[0m 104ms/step - loss: 1.3457\n",
            "Epoch 16/20\n",
            "\u001b[1m10/10\u001b[0m \u001b[32m━━━━━━━━━━━━━━━━━━━━\u001b[0m\u001b[37m\u001b[0m \u001b[1m1s\u001b[0m 104ms/step - loss: 1.6688\n",
            "Epoch 17/20\n",
            "\u001b[1m10/10\u001b[0m \u001b[32m━━━━━━━━━━━━━━━━━━━━\u001b[0m\u001b[37m\u001b[0m \u001b[1m1s\u001b[0m 101ms/step - loss: 1.4078\n",
            "Epoch 18/20\n",
            "\u001b[1m10/10\u001b[0m \u001b[32m━━━━━━━━━━━━━━━━━━━━\u001b[0m\u001b[37m\u001b[0m \u001b[1m1s\u001b[0m 103ms/step - loss: 1.5641\n",
            "Epoch 19/20\n",
            "\u001b[1m10/10\u001b[0m \u001b[32m━━━━━━━━━━━━━━━━━━━━\u001b[0m\u001b[37m\u001b[0m \u001b[1m1s\u001b[0m 103ms/step - loss: 1.5344\n",
            "Epoch 20/20\n",
            "\u001b[1m10/10\u001b[0m \u001b[32m━━━━━━━━━━━━━━━━━━━━\u001b[0m\u001b[37m\u001b[0m \u001b[1m2s\u001b[0m 157ms/step - loss: 1.8349\n"
          ]
        },
        {
          "output_type": "execute_result",
          "data": {
            "text/plain": [
              "<keras.src.callbacks.history.History at 0x7f6cbb50bd60>"
            ]
          },
          "metadata": {},
          "execution_count": 107
        }
      ],
      "source": [
        "def build_model_overfit(seq_length):\n",
        "    model = Sequential()\n",
        "    model.add(LSTM(128, input_shape=(seq_length, 1), return_sequences=True))\n",
        "    model.add(LSTM(128))\n",
        "    model.add(Dense(len(unique_chars), activation='softmax'))\n",
        "    return model\n",
        "\n",
        "\n",
        "model = build_model_overfit(X_train.shape[1])\n",
        "model.compile(loss='sparse_categorical_crossentropy', optimizer='adam')\n",
        "model.fit(X_train[:10], y_train[:10], epochs=20, batch_size=1)"
      ]
    },
    {
      "cell_type": "markdown",
      "metadata": {
        "id": "o4UOFbsKCnTd"
      },
      "source": [
        "Create a function **make_prediction(seed_start)** which takes a starting string sequence and uses it to generate a molecule\n"
      ]
    },
    {
      "cell_type": "code",
      "execution_count": 108,
      "metadata": {
        "id": "Ylc_lJlNCnTd"
      },
      "outputs": [],
      "source": [
        "def make_prediction(seed_start):\n",
        "    generated_molecule = seed_start\n",
        "    for i in range(max_len):\n",
        "        encoded_seed = [char_to_int[char] for char in generated_molecule]\n",
        "        encoded_seed = pad_sequences([encoded_seed], maxlen=X_train.shape[1], padding='pre')\n",
        "        encoded_seed = np.array(encoded_seed).reshape(1, X_train.shape[1], 1) / len(unique_chars)\n",
        "\n",
        "        prediction = model.predict(encoded_seed, verbose=0)[0]\n",
        "\n",
        "        predicted_index = np.argmax(prediction)\n",
        "        predicted_char = int_to_char[predicted_index]\n",
        "\n",
        "        generated_molecule += predicted_char\n",
        "\n",
        "        if predicted_char == '\\n':\n",
        "            break\n",
        "\n",
        "    return generated_molecule"
      ]
    },
    {
      "cell_type": "markdown",
      "metadata": {
        "id": "ZrM80Le2CnTd"
      },
      "source": [
        "generate a molecule of your overfitted model"
      ]
    },
    {
      "cell_type": "code",
      "execution_count": 109,
      "metadata": {
        "id": "_26baKSUCnTd",
        "outputId": "1f39d14d-8d7b-4e9f-d0fb-d595805c98fb",
        "colab": {
          "base_uri": "https://localhost:8080/",
          "height": 35
        }
      },
      "outputs": [
        {
          "output_type": "execute_result",
          "data": {
            "text/plain": [
              "'CC(=OCCCCCCCCCCCCCCCCCCCCCCCCCCCCCCCCCCCCC'"
            ],
            "application/vnd.google.colaboratory.intrinsic+json": {
              "type": "string"
            }
          },
          "metadata": {},
          "execution_count": 109
        }
      ],
      "source": [
        "make_prediction(\"CC(=O\")"
      ]
    },
    {
      "cell_type": "markdown",
      "metadata": {
        "id": "Dr_hEdiwCnTd"
      },
      "source": [
        "Make a model checkpoint so that the model is saved after each epoch\n",
        "if you train on a plateform and it stops you do not lose your training"
      ]
    },
    {
      "cell_type": "code",
      "source": [
        "from tensorflow.keras.callbacks import ModelCheckpoint\n",
        "\n",
        "checkpoint_filepath = '/content/model_checkpoints/model_epoch_{epoch:02d}.keras'\n",
        "model_checkpoint_callback = ModelCheckpoint(\n",
        "    filepath=checkpoint_filepath,\n",
        "    save_weights_only=False,\n",
        "    monitor='loss',\n",
        "    mode='min',\n",
        "    save_best_only=True,\n",
        "    save_freq='epoch'\n",
        ")"
      ],
      "metadata": {
        "id": "eVxiYMKiSQh6"
      },
      "execution_count": 115,
      "outputs": []
    },
    {
      "cell_type": "markdown",
      "metadata": {
        "id": "pX1d_nteCnTe"
      },
      "source": [
        "Now go to your favorite plateform (colab or something else) and train the dataset on the whole data for 10 epochs and batch size 256\n",
        "\n",
        "it should take a long time so either follow the class or go take a nap"
      ]
    },
    {
      "cell_type": "code",
      "execution_count": 116,
      "metadata": {
        "id": "55sgt-SzCnTe"
      },
      "outputs": [],
      "source": [
        "model = build_model(X_train.shape[1])\n",
        "model.compile(loss='sparse_categorical_crossentropy', optimizer='adam')"
      ]
    },
    {
      "cell_type": "code",
      "source": [
        "model.fit(X_train, y_train, epochs=10, batch_size=256, callbacks=[model_checkpoint_callback])"
      ],
      "metadata": {
        "id": "NpniTI2oSuy0",
        "outputId": "81791133-ff71-4f47-adc0-759aa1e1eb1c",
        "colab": {
          "base_uri": "https://localhost:8080/"
        }
      },
      "execution_count": 117,
      "outputs": [
        {
          "output_type": "stream",
          "name": "stdout",
          "text": [
            "Epoch 1/10\n",
            "\u001b[1m173/173\u001b[0m \u001b[32m━━━━━━━━━━━━━━━━━━━━\u001b[0m\u001b[37m\u001b[0m \u001b[1m192s\u001b[0m 1s/step - loss: 2.7925\n",
            "Epoch 2/10\n",
            "\u001b[1m173/173\u001b[0m \u001b[32m━━━━━━━━━━━━━━━━━━━━\u001b[0m\u001b[37m\u001b[0m \u001b[1m196s\u001b[0m 1s/step - loss: 2.5498\n",
            "Epoch 3/10\n",
            "\u001b[1m173/173\u001b[0m \u001b[32m━━━━━━━━━━━━━━━━━━━━\u001b[0m\u001b[37m\u001b[0m \u001b[1m197s\u001b[0m 1s/step - loss: 2.3362\n",
            "Epoch 4/10\n",
            "\u001b[1m173/173\u001b[0m \u001b[32m━━━━━━━━━━━━━━━━━━━━\u001b[0m\u001b[37m\u001b[0m \u001b[1m190s\u001b[0m 1s/step - loss: 2.1190\n",
            "Epoch 5/10\n",
            "\u001b[1m173/173\u001b[0m \u001b[32m━━━━━━━━━━━━━━━━━━━━\u001b[0m\u001b[37m\u001b[0m \u001b[1m201s\u001b[0m 1s/step - loss: 1.8634\n",
            "Epoch 6/10\n",
            "\u001b[1m173/173\u001b[0m \u001b[32m━━━━━━━━━━━━━━━━━━━━\u001b[0m\u001b[37m\u001b[0m \u001b[1m198s\u001b[0m 1s/step - loss: 1.7094\n",
            "Epoch 7/10\n",
            "\u001b[1m173/173\u001b[0m \u001b[32m━━━━━━━━━━━━━━━━━━━━\u001b[0m\u001b[37m\u001b[0m \u001b[1m201s\u001b[0m 1s/step - loss: 1.6209\n",
            "Epoch 8/10\n",
            "\u001b[1m173/173\u001b[0m \u001b[32m━━━━━━━━━━━━━━━━━━━━\u001b[0m\u001b[37m\u001b[0m \u001b[1m200s\u001b[0m 1s/step - loss: 1.5628\n",
            "Epoch 9/10\n",
            "\u001b[1m173/173\u001b[0m \u001b[32m━━━━━━━━━━━━━━━━━━━━\u001b[0m\u001b[37m\u001b[0m \u001b[1m180s\u001b[0m 1s/step - loss: 1.4991\n",
            "Epoch 10/10\n",
            "\u001b[1m173/173\u001b[0m \u001b[32m━━━━━━━━━━━━━━━━━━━━\u001b[0m\u001b[37m\u001b[0m \u001b[1m204s\u001b[0m 1s/step - loss: 1.4426\n"
          ]
        },
        {
          "output_type": "execute_result",
          "data": {
            "text/plain": [
              "<keras.src.callbacks.history.History at 0x7f6cbad14e20>"
            ]
          },
          "metadata": {},
          "execution_count": 117
        }
      ]
    },
    {
      "cell_type": "markdown",
      "metadata": {
        "id": "8tVRKx_qCnTe"
      },
      "source": [
        "Generate between 100 and 1000 molecules.\n",
        "\n",
        "create a list where molecules have between 10 and 50 atoms"
      ]
    },
    {
      "cell_type": "code",
      "execution_count": 123,
      "metadata": {
        "id": "xUxbqRNUCnTe",
        "outputId": "98fba90a-cd6a-487c-8a6f-70cfa30b30e6",
        "colab": {
          "base_uri": "https://localhost:8080/"
        }
      },
      "outputs": [
        {
          "output_type": "stream",
          "name": "stdout",
          "text": [
            "Generated 10 molecules with 10-50 atoms.\n"
          ]
        }
      ],
      "source": [
        "import random\n",
        "\n",
        "def generate_molecules(model, char_to_int, int_to_char, X_train, num_molecules):\n",
        "    molecules = []\n",
        "    for _ in range(num_molecules):\n",
        "        seed_start = random.choice(df['smiles'])[:random.randint(1, 5)]\n",
        "        generated_molecule = make_prediction(seed_start)\n",
        "        atom_count = sum(1 for char in generated_molecule if char.isalpha())\n",
        "        if 10 <= atom_count <= 50 :\n",
        "          molecules.append(generated_molecule)\n",
        "    return molecules\n",
        "\n",
        "num_molecules_to_generate = 10 # TODO, add more molecules.\n",
        "generated_molecules = generate_molecules(model, char_to_int, int_to_char, X_train, num_molecules_to_generate)\n",
        "print(f\"Generated {len(generated_molecules)} molecules with 10-50 atoms.\")"
      ]
    },
    {
      "cell_type": "code",
      "source": [
        "generated_molecules"
      ],
      "metadata": {
        "id": "g8vAuspBb9ZH",
        "outputId": "b1d39b85-b888-4b19-de6c-ca15ddacc87a",
        "colab": {
          "base_uri": "https://localhost:8080/"
        }
      },
      "execution_count": 124,
      "outputs": [
        {
          "output_type": "execute_result",
          "data": {
            "text/plain": [
              "['CCNC(=O)NCCC(=O)NCCCC(=O)NCCCC2)c1ccccc1',\n",
              " 'Cc1ccc(C)cc1CCCCCC(=O)NCCCCC(=O)NCCC2)c1',\n",
              " 'CCC(CCCCCCC(=O)NCCCC(=O)NCCCC2)c1ccccc',\n",
              " 'Cc1ccc(C)cc1CCCCCC(=O)NCCCCC(=O)NCCC2)c',\n",
              " 'CCC(CCCCCCC(=O)NCCCC(=O)NCCCC2)c1ccccc',\n",
              " 'CCC(CCCCCCC(=O)NCCCC(=O)NCCCC2)c1ccccc',\n",
              " 'O=C(CCCCCCC(=O)NCCCC(=O)NCCCC2)c1ccccc1)',\n",
              " 'Cc1ccc(C)cc1CCCCCC(=O)NCCCCC(=O)NCCC2)c1cc',\n",
              " 'CCC(CCCCCCC(=O)NCCCC(=O)NCCCC2)c1ccccc',\n",
              " 'CCC(CCCCCCC(=O)NCCCC(=O)NCCCC2)c1ccccc']"
            ]
          },
          "metadata": {},
          "execution_count": 124
        }
      ]
    },
    {
      "cell_type": "markdown",
      "metadata": {
        "id": "6F7FHmsOCnTe"
      },
      "source": [
        "With rdkit compute the Quantified Estimated Drug likelyness (QED) of each molecule in this subset"
      ]
    },
    {
      "cell_type": "code",
      "source": [
        "!pip install rdkit-pypi"
      ],
      "metadata": {
        "id": "Ys0kwHvAdRMG",
        "outputId": "553b7d81-aa85-4917-b89e-8b1dd411649a",
        "colab": {
          "base_uri": "https://localhost:8080/"
        }
      },
      "execution_count": 125,
      "outputs": [
        {
          "output_type": "stream",
          "name": "stdout",
          "text": [
            "Collecting rdkit-pypi\n",
            "  Downloading rdkit_pypi-2022.9.5-cp310-cp310-manylinux_2_17_x86_64.manylinux2014_x86_64.whl.metadata (3.9 kB)\n",
            "Requirement already satisfied: numpy in /usr/local/lib/python3.10/dist-packages (from rdkit-pypi) (1.26.4)\n",
            "Requirement already satisfied: Pillow in /usr/local/lib/python3.10/dist-packages (from rdkit-pypi) (11.0.0)\n",
            "Downloading rdkit_pypi-2022.9.5-cp310-cp310-manylinux_2_17_x86_64.manylinux2014_x86_64.whl (29.4 MB)\n",
            "\u001b[2K   \u001b[90m━━━━━━━━━━━━━━━━━━━━━━━━━━━━━━━━━━━━━━━━\u001b[0m \u001b[32m29.4/29.4 MB\u001b[0m \u001b[31m57.5 MB/s\u001b[0m eta \u001b[36m0:00:00\u001b[0m\n",
            "\u001b[?25hInstalling collected packages: rdkit-pypi\n",
            "Successfully installed rdkit-pypi-2022.9.5\n"
          ]
        }
      ]
    },
    {
      "cell_type": "code",
      "execution_count": 126,
      "metadata": {
        "id": "1ov_0ekvCnTe",
        "outputId": "85b6585f-b8ae-4558-82d6-733192288236",
        "colab": {
          "base_uri": "https://localhost:8080/"
        }
      },
      "outputs": [
        {
          "output_type": "stream",
          "name": "stdout",
          "text": [
            "Invalid SMILES string: CCNC(=O)NCCC(=O)NCCCC(=O)NCCCC2)c1ccccc1\n",
            "Invalid SMILES string: Cc1ccc(C)cc1CCCCCC(=O)NCCCCC(=O)NCCC2)c1\n",
            "Invalid SMILES string: CCC(CCCCCCC(=O)NCCCC(=O)NCCCC2)c1ccccc\n",
            "Invalid SMILES string: Cc1ccc(C)cc1CCCCCC(=O)NCCCCC(=O)NCCC2)c\n",
            "Invalid SMILES string: CCC(CCCCCCC(=O)NCCCC(=O)NCCCC2)c1ccccc\n",
            "Invalid SMILES string: CCC(CCCCCCC(=O)NCCCC(=O)NCCCC2)c1ccccc\n",
            "Invalid SMILES string: O=C(CCCCCCC(=O)NCCCC(=O)NCCCC2)c1ccccc1)\n",
            "Invalid SMILES string: Cc1ccc(C)cc1CCCCCC(=O)NCCCCC(=O)NCCC2)c1cc\n",
            "Invalid SMILES string: CCC(CCCCCCC(=O)NCCCC(=O)NCCCC2)c1ccccc\n",
            "Invalid SMILES string: CCC(CCCCCCC(=O)NCCCC(=O)NCCCC2)c1ccccc\n"
          ]
        },
        {
          "output_type": "stream",
          "name": "stderr",
          "text": [
            "[16:02:41] SMILES Parse Error: extra close parentheses while parsing: CCNC(=O)NCCC(=O)NCCCC(=O)NCCCC2)c1ccccc1\n",
            "[16:02:41] SMILES Parse Error: Failed parsing SMILES 'CCNC(=O)NCCC(=O)NCCCC(=O)NCCCC2)c1ccccc1' for input: 'CCNC(=O)NCCC(=O)NCCCC(=O)NCCCC2)c1ccccc1'\n",
            "[16:02:41] SMILES Parse Error: extra close parentheses while parsing: Cc1ccc(C)cc1CCCCCC(=O)NCCCCC(=O)NCCC2)c1\n",
            "[16:02:41] SMILES Parse Error: Failed parsing SMILES 'Cc1ccc(C)cc1CCCCCC(=O)NCCCCC(=O)NCCC2)c1' for input: 'Cc1ccc(C)cc1CCCCCC(=O)NCCCCC(=O)NCCC2)c1'\n",
            "[16:02:41] SMILES Parse Error: unclosed ring for input: 'CCC(CCCCCCC(=O)NCCCC(=O)NCCCC2)c1ccccc'\n",
            "[16:02:41] SMILES Parse Error: extra close parentheses while parsing: Cc1ccc(C)cc1CCCCCC(=O)NCCCCC(=O)NCCC2)c\n",
            "[16:02:41] SMILES Parse Error: Failed parsing SMILES 'Cc1ccc(C)cc1CCCCCC(=O)NCCCCC(=O)NCCC2)c' for input: 'Cc1ccc(C)cc1CCCCCC(=O)NCCCCC(=O)NCCC2)c'\n",
            "[16:02:41] SMILES Parse Error: unclosed ring for input: 'CCC(CCCCCCC(=O)NCCCC(=O)NCCCC2)c1ccccc'\n",
            "[16:02:41] SMILES Parse Error: unclosed ring for input: 'CCC(CCCCCCC(=O)NCCCC(=O)NCCCC2)c1ccccc'\n",
            "[16:02:41] SMILES Parse Error: extra close parentheses while parsing: O=C(CCCCCCC(=O)NCCCC(=O)NCCCC2)c1ccccc1)\n",
            "[16:02:41] SMILES Parse Error: Failed parsing SMILES 'O=C(CCCCCCC(=O)NCCCC(=O)NCCCC2)c1ccccc1)' for input: 'O=C(CCCCCCC(=O)NCCCC(=O)NCCCC2)c1ccccc1)'\n",
            "[16:02:41] SMILES Parse Error: extra close parentheses while parsing: Cc1ccc(C)cc1CCCCCC(=O)NCCCCC(=O)NCCC2)c1cc\n",
            "[16:02:41] SMILES Parse Error: Failed parsing SMILES 'Cc1ccc(C)cc1CCCCCC(=O)NCCCCC(=O)NCCC2)c1cc' for input: 'Cc1ccc(C)cc1CCCCCC(=O)NCCCCC(=O)NCCC2)c1cc'\n",
            "[16:02:41] SMILES Parse Error: unclosed ring for input: 'CCC(CCCCCCC(=O)NCCCC(=O)NCCCC2)c1ccccc'\n",
            "[16:02:41] SMILES Parse Error: unclosed ring for input: 'CCC(CCCCCCC(=O)NCCCC(=O)NCCCC2)c1ccccc'\n"
          ]
        }
      ],
      "source": [
        "from rdkit import Chem\n",
        "from rdkit.Chem import QED\n",
        "\n",
        "for smiles in generated_molecules:\n",
        "  try:\n",
        "    mol = Chem.MolFromSmiles(smiles)\n",
        "    if mol is not None:\n",
        "      qed_value = QED.qed(mol)\n",
        "      print(f\"SMILES: {smiles}, QED: {qed_value}\")\n",
        "    else:\n",
        "      print(f\"Invalid SMILES string: {smiles}\")\n",
        "  except Exception as e:\n",
        "      print(f\"Error processing SMILES {smiles}: {e}\")"
      ]
    },
    {
      "cell_type": "markdown",
      "metadata": {
        "id": "pFZ0G4IPCnTe"
      },
      "source": [
        "Bonus 1 : Using rdkit, compute the quantitative estimation of drug-likeness (QED) of your generated molecules."
      ]
    },
    {
      "cell_type": "code",
      "execution_count": null,
      "metadata": {
        "id": "y_50TkZuCnTe"
      },
      "outputs": [],
      "source": []
    },
    {
      "cell_type": "markdown",
      "metadata": {
        "id": "cCmaityICnTe"
      },
      "source": [
        "Bonus 2 : try to adapt a transformer model training from hugging face to see if it is better"
      ]
    },
    {
      "cell_type": "code",
      "execution_count": null,
      "metadata": {
        "id": "f1TZMde0CnTe"
      },
      "outputs": [],
      "source": []
    }
  ],
  "metadata": {
    "kernelspec": {
      "display_name": "Python 3 (ipykernel)",
      "language": "python",
      "name": "python3"
    },
    "language_info": {
      "codemirror_mode": {
        "name": "ipython",
        "version": 3
      },
      "file_extension": ".py",
      "mimetype": "text/x-python",
      "name": "python",
      "nbconvert_exporter": "python",
      "pygments_lexer": "ipython3",
      "version": "3.9.9"
    },
    "colab": {
      "provenance": []
    }
  },
  "nbformat": 4,
  "nbformat_minor": 0
}