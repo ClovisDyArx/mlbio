{
  "cells": [
    {
      "cell_type": "code",
      "source": [],
      "metadata": {
        "id": "ovULL8zRp62S"
      },
      "execution_count": null,
      "outputs": []
    },
    {
      "cell_type": "markdown",
      "metadata": {
        "id": "BpI9eESpkREM"
      },
      "source": [
        "# Ex1: Onehot coding DNA\n",
        "\n",
        "Write a function called **onehot_dna(dna_str)** that allows to encode a DNA segment where each base is encoded as a vector of all zeros except one in a specific position. The result of this function is an array numpy.  DNA is a long chain of repeating bases strung together. There are 4 bases: A, C, G, T. For example, \"AACCCAAATCGGGGG\" is a DNA segment.\n",
        "\n",
        "\n",
        "\n",
        "For example, **onehot_dna('AAT')** should return\n",
        "\n",
        "array([[1, 0, 0, 0],\n",
        "       [1, 0, 0, 0],\n",
        "       [0, 0, 0, 1]])\n",
        "\n",
        "\n",
        "\n",
        "\n"
      ]
    },
    {
      "cell_type": "code",
      "execution_count": 1,
      "metadata": {
        "id": "YbhaCZP1moii"
      },
      "outputs": [],
      "source": [
        "import numpy as np\n",
        "\n",
        "dict_dna = {\n",
        "    'A': [1,0,0,0],\n",
        "    'C': [0,1,0,0],\n",
        "    'G': [0,0,1,0],\n",
        "    'T': [0,0,0,1]\n",
        "}\n",
        "\n",
        "def onehot_dna(dna_str):\n",
        "  result = []\n",
        "  for letter in dna_str:\n",
        "    result.append(dict_dna[letter])\n",
        "  return np.array(result)"
      ]
    },
    {
      "cell_type": "code",
      "execution_count": 2,
      "metadata": {
        "colab": {
          "base_uri": "https://localhost:8080/"
        },
        "id": "WM-BaQiGo82A",
        "outputId": "96702479-d1c1-4b2a-e47a-3062148fe0bb"
      },
      "outputs": [
        {
          "output_type": "execute_result",
          "data": {
            "text/plain": [
              "array([[1, 0, 0, 0],\n",
              "       [1, 0, 0, 0],\n",
              "       [0, 0, 0, 1]])"
            ]
          },
          "metadata": {},
          "execution_count": 2
        }
      ],
      "source": [
        "onehot_dna('AAT')"
      ]
    },
    {
      "cell_type": "markdown",
      "metadata": {
        "id": "AkSQo19z60n1"
      },
      "source": [
        "# Deep learning to classify Transcription Factor Biding\n",
        "\n",
        "\n",
        "In the next exercises, we will learn how to use Deep learning to predict whether a segment of DNA does include or does not include a sit where JUND binds. (JUND is a particular transcription factor).\n",
        "\n",
        "In this purpose, we will use data that is extracted from the chapter 6 of the book: 'Deep learning for the life science'. This book is written by B.Ramsundar, P.Eastman, P. Walters and V.Pande.\n",
        "\n"
      ]
    },
    {
      "cell_type": "markdown",
      "metadata": {
        "id": "T4Ka4dkFpuvM"
      },
      "source": [
        "By looking at the Wikipedia page of the Jund transcription factor, explain what is the use of such protein"
      ]
    },
    {
      "cell_type": "code",
      "execution_count": 3,
      "metadata": {
        "id": "IGWafUR_puvM",
        "outputId": "40a12b33-acda-4331-f4a2-20debf5b89dd",
        "colab": {
          "base_uri": "https://localhost:8080/",
          "height": 87
        }
      },
      "outputs": [
        {
          "output_type": "execute_result",
          "data": {
            "text/plain": [
              "\"\\nIl intervient dans l'angiogenèse tumorale,\\nla différenciation cellulaire et l'apoptose.\\nIl est protecteur vis-à-vis du stress oxydatif en augmentant l'expression de certaines protéines,\\ncomme la ferritine. Il freine les altérations de la fonction de l'endothélium vasculaire des à l'âge.\\n\""
            ],
            "application/vnd.google.colaboratory.intrinsic+json": {
              "type": "string"
            }
          },
          "metadata": {},
          "execution_count": 3
        }
      ],
      "source": [
        "\"\"\"\n",
        "Il intervient dans l'angiogenèse tumorale,\n",
        "la différenciation cellulaire et l'apoptose.\n",
        "Il est protecteur vis-à-vis du stress oxydatif en augmentant l'expression de certaines protéines,\n",
        "comme la ferritine. Il freine les altérations de la fonction de l'endothélium vasculaire des à l'âge.\n",
        "\"\"\""
      ]
    },
    {
      "cell_type": "markdown",
      "metadata": {
        "id": "q08WzlEcpuvM"
      },
      "source": [
        "\n",
        "Data consist of DNA segments that have been split up from a full chromosome. Each segment is of 101 bases long and has been labeled to indicate whether it does or does not include a site where JUND binds to.\n",
        "\n",
        "\n",
        "This is a binary classification problem.\n",
        "The process of creating a PyTorch neural network binary classifier consists of several steps:\n",
        "\n",
        "1. Prepare the training and test data\n",
        "\n",
        "2. Implement a Dataset object to serve up the data\n",
        "\n",
        "3. Design and implement a neural network\n",
        "\n",
        "4. Write code to train the network\n",
        "\n",
        "5. Write code to evaluate the model (the trained network)\n"
      ]
    },
    {
      "cell_type": "markdown",
      "metadata": {
        "id": "XS8a5oOmOjqO"
      },
      "source": [
        "# Ex 2:  Load Data\n",
        "\n",
        "The data is available here : https://drive.google.com/drive/folders/1-nrTvNvEZo6Px1pnT7IeotKZR7p365UJ?usp=sharing\n",
        "\n",
        "1. With the help of the joblib library, load the following files for training set:  **y_train.joblib**, **X_train.joblib**  and then store the results in variables **y_train, X_train** ,respectively.\n",
        "\n",
        "2. Do the same thing for the test set: load  **y_test.joblib**, **X_test.joblib**  and then store the results in variables **y_test, X_test**, respectively.\n",
        "\n",
        "3. What are the shape of **X_train** and **y_train** ? How many DNA segments are there in traning set ?\n",
        "\n",
        "4. Display a DNA segment from **X_train** (using matplotlib.pyplot.imshow ).\n",
        "\n",
        "5. Plot the histogram of **y_train** to see whether data is imbalanced or not.\n"
      ]
    },
    {
      "cell_type": "code",
      "execution_count": 5,
      "metadata": {
        "id": "NB5Y5StQezcZ",
        "outputId": "abc9f20f-2f51-421e-a017-85dc28e7d5bd",
        "colab": {
          "base_uri": "https://localhost:8080/"
        }
      },
      "outputs": [
        {
          "output_type": "stream",
          "name": "stdout",
          "text": [
            "Archive:  /content/tfbind-20241211T135140Z-001.zip\n",
            "  inflating: tfbind/y_test.joblib    \n",
            "  inflating: tfbind/X_test.joblib    \n",
            "  inflating: tfbind/y_train.joblib   \n",
            "  inflating: tfbind/X_train.joblib   \n"
          ]
        }
      ],
      "source": [
        "!unzip /content/tfbind-20241211T135140Z-001.zip"
      ]
    },
    {
      "cell_type": "code",
      "source": [
        "import joblib\n",
        "import torch\n",
        "import matplotlib.pyplot as plt"
      ],
      "metadata": {
        "id": "-ujFo3b6sK6H"
      },
      "execution_count": 6,
      "outputs": []
    },
    {
      "cell_type": "code",
      "source": [
        "X_train = joblib.load('tfbind/X_train.joblib')\n",
        "y_train = joblib.load('tfbind/y_train.joblib')\n",
        "\n",
        "X_test = joblib.load('tfbind/X_test.joblib')\n",
        "y_test = joblib.load('tfbind/y_test.joblib')"
      ],
      "metadata": {
        "id": "uA0R9LvOsAmk"
      },
      "execution_count": 8,
      "outputs": []
    },
    {
      "cell_type": "code",
      "execution_count": 9,
      "metadata": {
        "id": "FMLs0OOTV4E5"
      },
      "outputs": [],
      "source": [
        "''' Tests X_train, y_train '''\n",
        "assert(X_train.shape == (4672, 101, 4))\n",
        "assert(y_train.shape ==(4672, 1))\n",
        "\n"
      ]
    },
    {
      "cell_type": "code",
      "execution_count": 10,
      "metadata": {
        "id": "RO7DeSen_W_h"
      },
      "outputs": [],
      "source": [
        "''' Tests X_test, y_test'''\n",
        "assert(X_test.shape == (584, 101, 4))\n",
        "assert(y_test.shape ==(584, 1))\n"
      ]
    },
    {
      "cell_type": "code",
      "execution_count": 11,
      "metadata": {
        "colab": {
          "base_uri": "https://localhost:8080/",
          "height": 433
        },
        "id": "TceRZcS3MENp",
        "outputId": "446877f5-7165-4ed7-f042-6bcac20c2b17"
      },
      "outputs": [
        {
          "output_type": "display_data",
          "data": {
            "text/plain": [
              "<Figure size 640x480 with 1 Axes>"
            ],
            "image/png": "[encoded data removed]"
          },
          "metadata": {}
        }
      ],
      "source": [
        "plt.imshow(X_train[0])\n",
        "plt.show()"
      ]
    },
    {
      "cell_type": "code",
      "source": [
        "plt.hist(y_train)\n",
        "plt.show()"
      ],
      "metadata": {
        "id": "ptTUqb6ctvUJ",
        "outputId": "3f35e4f8-83e9-469c-db69-79d316cb36a9",
        "colab": {
          "base_uri": "https://localhost:8080/",
          "height": 430
        }
      },
      "execution_count": 12,
      "outputs": [
        {
          "output_type": "display_data",
          "data": {
            "text/plain": [
              "<Figure size 640x480 with 1 Axes>"
            ],
            "image/png": "[encoded data removed]"
          },
          "metadata": {}
        }
      ]
    },
    {
      "cell_type": "markdown",
      "metadata": {
        "id": "EajNPJrnAmde"
      },
      "source": [
        "# Ex 3: Convert numpy array to tensor pytorch\n",
        "\n",
        "As you see in the previous exercise, **X_train** consists of 4672 segments. Each segment is encoded by 0 and 1 (one-hot encoding).\n",
        "\n",
        "\n",
        "1. Convert numpy array **X_train**, **y_train** into pytorch tensor. Reshape **X_train** to (4672, 4, 101). Note that the type of **X_train** and **y_train** should be float.\n",
        "\n",
        "2. Do the same thing for **X_test** and **y_test**\n"
      ]
    },
    {
      "cell_type": "code",
      "execution_count": 13,
      "metadata": {
        "id": "E8eedW_yPUKu"
      },
      "outputs": [],
      "source": [
        "X_train_ts = torch.tensor(X_train).float()\n",
        "y_train_ts = torch.tensor(y_train).float()"
      ]
    },
    {
      "cell_type": "code",
      "source": [
        "X_train_ts = torch.tensor(X_train).float().reshape(4672, 4, 101)\n",
        "y_train_ts = torch.tensor(y_train).float()"
      ],
      "metadata": {
        "id": "Vkby2VPmu7Dc"
      },
      "execution_count": 14,
      "outputs": []
    },
    {
      "cell_type": "code",
      "execution_count": 15,
      "metadata": {
        "id": "GrBcHzR-E-yR"
      },
      "outputs": [],
      "source": [
        "''' Tests X_train_ts, y_train_ts '''\n",
        "assert(type(X_train_ts) is torch.Tensor)\n",
        "assert(type(y_train_ts) is torch.Tensor)\n",
        "assert(X_train_ts.shape == (4672, 4, 101))\n"
      ]
    },
    {
      "cell_type": "code",
      "execution_count": 16,
      "metadata": {
        "id": "Wn_0dOuVHWhs"
      },
      "outputs": [],
      "source": [
        "X_test_ts = torch.tensor(X_test).float().reshape(584, 4, 101)\n",
        "y_test_ts = torch.tensor(y_test).float()"
      ]
    },
    {
      "cell_type": "code",
      "execution_count": 17,
      "metadata": {
        "id": "o_it3skAH0Yt"
      },
      "outputs": [],
      "source": [
        "''' Tests the above ToDo. '''\n",
        "assert(type(X_test_ts) is torch.Tensor)\n",
        "assert(type(y_test_ts) is torch.Tensor)\n",
        "assert(X_test_ts.shape == (584, 4, 101))\n"
      ]
    },
    {
      "cell_type": "markdown",
      "metadata": {
        "id": "mEYJBjBdg547"
      },
      "source": [
        "# Ex4: Create Dataset\n",
        "In order to train a deep learning model with Pytorch, we need a pytorch dataset.\n",
        "The DNADataset class below allows for creating a pytorch Dataset from DNA segments and their labels.\n",
        "\n",
        "1. Using this class, create a dataset for training set. You should call it **train_dataset**\n",
        "\n",
        "2. Create **Dataloader** from **train_dataset**. You should call it **train_loader**.\n",
        "\n",
        "3. Do the same thing for the test set."
      ]
    },
    {
      "cell_type": "code",
      "execution_count": 18,
      "metadata": {
        "id": "GkvyOQVggLz_"
      },
      "outputs": [],
      "source": [
        "class DNADataset(torch.utils.data.Dataset):\n",
        "    def __init__(self, dna, labels):\n",
        "        self.labels = labels\n",
        "        self.dna = dna\n",
        "\n",
        "\n",
        "    def __len__(self):\n",
        "        return len(self.labels)\n",
        "\n",
        "\n",
        "    def __getitem__(self, idx):\n",
        "        label = self.labels[idx]\n",
        "        frag_dna = self.dna[idx]\n",
        "\n",
        "        sample = {'DNA': frag_dna, 'Class': label}\n",
        "\n",
        "        return sample"
      ]
    },
    {
      "cell_type": "markdown",
      "metadata": {
        "id": "O_d7J-rFbiig"
      },
      "source": [
        "**train_loader** is a generator. To get data out of it, you need to loop through it or convert it to an iterator and call next()"
      ]
    },
    {
      "cell_type": "code",
      "source": [
        "from torch.utils.data import DataLoader\n",
        "\n",
        "train_dataset = DNADataset(X_train_ts, y_train_ts)\n",
        "train_loader = DataLoader(train_dataset, batch_size=32, shuffle=True)\n",
        "\n",
        "test_dataset = DNADataset(X_test_ts, y_test_ts)\n",
        "test_loader = DataLoader(test_dataset, batch_size=32, shuffle=False)"
      ],
      "metadata": {
        "id": "8W80yD3Hvzji"
      },
      "execution_count": 19,
      "outputs": []
    },
    {
      "cell_type": "code",
      "execution_count": 20,
      "metadata": {
        "colab": {
          "base_uri": "https://localhost:8080/"
        },
        "id": "PJQK0ZaLMpKF",
        "outputId": "ed5afe31-17c2-4291-f0d1-eeb59bf1df6c"
      },
      "outputs": [
        {
          "output_type": "stream",
          "name": "stdout",
          "text": [
            "a batch data  torch.Size([32, 4, 101])\n",
            "Shape of label torch.Size([32, 1])\n"
          ]
        }
      ],
      "source": [
        "# Run this to test your data loader\n",
        "data = next(iter(train_loader))\n",
        "dna = data['DNA']\n",
        "label = data['Class']\n",
        "print(\"a batch data \", dna.shape)\n",
        "print(\"Shape of label\", label.shape)"
      ]
    },
    {
      "cell_type": "markdown",
      "metadata": {
        "id": "VDcbP17Rb2xt"
      },
      "source": [
        "# Design and implement a convolutional neural network\n",
        "\n",
        "Now, it's time to build your model. This is a binary classification problem. We can use a convolution neural network, just like an image classification problem. However, since the size of a DNA segment is (4, 101), we will use 1D convolution instead of 2D convolution.\n",
        "\n",
        "\n",
        "\n",
        "Firstly, we will test how does a 1D convolution work on our data.\n",
        "\n"
      ]
    },
    {
      "cell_type": "markdown",
      "metadata": {
        "id": "xlPP4E3UfRYe"
      },
      "source": [
        "# EX 5: 1D Convolution\n",
        "\n",
        "1. With the help of the torch.nn.Conv1d class, create a 1D convolutional layer. You need to choose values for the following parameters: **in_channels**, **out_channels**, **kernel_size**.\n",
        "\n",
        "\n",
        "2. Apply this layer to **dna_seg** below. What is the size of the output ?\n",
        "\n",
        "\n",
        "3. [Optional] Display the output by using matplotlib.pyplot.imshow\n",
        "\n",
        "\n"
      ]
    },
    {
      "cell_type": "code",
      "execution_count": 21,
      "metadata": {
        "id": "C9y0yRXhhj1F"
      },
      "outputs": [],
      "source": [
        "data = next(iter(train_loader))\n",
        "dna_seg = data['DNA']\n",
        "y = data['Class']"
      ]
    },
    {
      "cell_type": "code",
      "execution_count": 22,
      "metadata": {
        "id": "FJ9uE489imxl"
      },
      "outputs": [],
      "source": [
        "from torch.nn import Conv1d\n",
        "\n",
        "conv1d = Conv1d(in_channels=4, out_channels=1, kernel_size=5)\n",
        "out = conv1d(dna_seg)"
      ]
    },
    {
      "cell_type": "markdown",
      "metadata": {
        "id": "H26rAy0wkbca"
      },
      "source": [
        "# EX 6: Build a model\n",
        "\n",
        "Create a 3 layer 1-dimensional network to classify the TF binding sites"
      ]
    },
    {
      "cell_type": "code",
      "execution_count": 23,
      "metadata": {
        "id": "L_bs8O3lhB7m"
      },
      "outputs": [],
      "source": [
        "import torch.nn as nn\n",
        "import torch.nn.functional as F\n",
        "\n",
        "class DeepDNA(nn.Module):\n",
        "\n",
        "    def __init__(self, input_size):\n",
        "        super(DeepDNA, self).__init__()\n",
        "        self.conv1 = nn.Conv1d(in_channels=4, out_channels=1, kernel_size=5)\n",
        "        self.fc = nn.Linear(input_size - 4, 1)\n",
        "        self.sigmoid = nn.Sigmoid()\n",
        "\n",
        "    def forward(self, x):\n",
        "      x = self.conv1(x)\n",
        "      x = x.view(x.size(0), -1)\n",
        "      x = self.fc(x)\n",
        "      x = self.sigmoid(x)\n",
        "      return x\n"
      ]
    },
    {
      "cell_type": "markdown",
      "metadata": {
        "id": "HVbFqM4laclu"
      },
      "source": [
        "# Ex 7 Test the model\n",
        "\n",
        "\n",
        "1. Create an instance of the DeepDNA class named **net**.\n",
        "\n",
        "2. Print out the variable **net** to see detailed information about the model.\n",
        "\n",
        "3. Pass **dna_seg** below to **net** in order to  test if your model **net** works well.\n",
        "\n",
        "4. What is the size of the output ?\n",
        "\n"
      ]
    },
    {
      "cell_type": "code",
      "execution_count": 24,
      "metadata": {
        "colab": {
          "base_uri": "https://localhost:8080/"
        },
        "id": "ladQCir7btvX",
        "outputId": "0df2fb44-9090-4af5-d55c-5b1c2eedcb25"
      },
      "outputs": [
        {
          "output_type": "stream",
          "name": "stdout",
          "text": [
            "the output of the model  tensor([[0.4951],\n",
            "        [0.4886],\n",
            "        [0.5746],\n",
            "        [0.5773],\n",
            "        [0.5582]], grad_fn=<SliceBackward0>)\n"
          ]
        }
      ],
      "source": [
        "#data = next(iter(train_loader))\n",
        "dna_seg = data['DNA']\n",
        "\n",
        "##### TO DO #######\n",
        "\n",
        "net = DeepDNA(101)\n",
        "out = net(dna_seg)\n",
        "\n",
        "print(\"the output of the model \", out[:5])\n",
        "\n"
      ]
    },
    {
      "cell_type": "code",
      "execution_count": 25,
      "metadata": {
        "colab": {
          "base_uri": "https://localhost:8080/"
        },
        "id": "RFzp7DbtlTwG",
        "outputId": "f3b5d131-f3ff-4c49-8db2-d05a7333512c"
      },
      "outputs": [
        {
          "output_type": "stream",
          "name": "stdout",
          "text": [
            "DeepDNA(\n",
            "  (conv1): Conv1d(4, 1, kernel_size=(5,), stride=(1,))\n",
            "  (fc): Linear(in_features=97, out_features=1, bias=True)\n",
            "  (sigmoid): Sigmoid()\n",
            ")\n"
          ]
        }
      ],
      "source": [
        "print(net)"
      ]
    },
    {
      "cell_type": "markdown",
      "metadata": {
        "id": "yypmG11hr_so"
      },
      "source": [
        "# Ex 8: Define loss function and optimizer\n",
        "\n",
        "\n",
        "1. Define an SGD optimizer for the model. You need to choose the learning rate for your model.\n",
        "\n",
        "2. Define a Binary Cross Entropy (BCE) Loss  function.\n"
      ]
    },
    {
      "cell_type": "code",
      "execution_count": 26,
      "metadata": {
        "id": "uZwQKSrxh1A_"
      },
      "outputs": [],
      "source": [
        "## TODO ###\n",
        "import numpy as np\n",
        "\n",
        "criterion = nn.BCELoss()\n",
        "optimizer = torch.optim.SGD(net.parameters(), lr = 0.001)\n"
      ]
    },
    {
      "cell_type": "markdown",
      "metadata": {
        "id": "7rEjVjhetI6A"
      },
      "source": [
        "# Ex 9: Training your model\n",
        "\n",
        "The following function allows to train the model for one epoch. This function returns total loss per epoch.\n",
        "Implement the training pass for this function.\n",
        "\n",
        "\n",
        "\n",
        "The general process with PyTorch for one learning step consits of several steps:\n",
        "\n",
        "1. Make a forward pass through the network\n",
        "2. Use the network output to calculate the loss\n",
        "3. Perform a backward pass through the network with loss.backward() to calculate the gradients\n",
        "4. Take a step with the optimizer to update the weights\n",
        "\n"
      ]
    },
    {
      "cell_type": "code",
      "execution_count": 27,
      "metadata": {
        "id": "oAil9eU9iNCf"
      },
      "outputs": [],
      "source": [
        "def train():\n",
        "    net.train()\n",
        "    loss_epoch = 0\n",
        "    for batch_data in train_loader:\n",
        "      dna = batch_data['DNA']\n",
        "      y = batch_data['Class']\n",
        "\n",
        "      optimizer.zero_grad()\n",
        "\n",
        "      out = net(dna)\n",
        "      loss = criterion(out, y)\n",
        "      loss.backward()\n",
        "      optimizer.step()\n",
        "\n",
        "    return loss_epoch"
      ]
    },
    {
      "cell_type": "markdown",
      "metadata": {
        "id": "Pz0VV2Oenftq"
      },
      "source": [
        "# Ex 11: Accuracy Calculation\n",
        "\n",
        "Write a function named **compute_num_correct_pred(y_prob, y_label)** that allows to compute the number of correct predictions. **y_prob** and **y_label** should be pytorch tensors.\n",
        "\n",
        "For example,\n",
        "y_prob = [[0.3],[0.4], [0.8], [0.7]].\n",
        "\n",
        "y = [[0], [1], [1], [0]].\n",
        "\n",
        "This function should return 2."
      ]
    },
    {
      "cell_type": "code",
      "execution_count": 28,
      "metadata": {
        "id": "JZ3cRawWpFe7",
        "outputId": "b80575f9-14e5-407b-e704-4a175467af2f",
        "colab": {
          "base_uri": "https://localhost:8080/"
        }
      },
      "outputs": [
        {
          "output_type": "stream",
          "name": "stdout",
          "text": [
            "2\n"
          ]
        }
      ],
      "source": [
        "### TODO ####\n",
        "def compute_num_correct_pred(y_prob, y_label):\n",
        "  result = 0\n",
        "  for i in range(len(y_prob)):\n",
        "    if y_prob[i][0] >= 0.5:\n",
        "      result += 1 if y_label[i][0] == 1 else 0\n",
        "    else:\n",
        "      result += 1 if y_label[i][0] == 0 else 0\n",
        "  return result\n",
        "\n",
        "print(compute_num_correct_pred([[0.3],[0.4], [0.8], [0.7]], [[0], [1], [1], [0]]))"
      ]
    },
    {
      "cell_type": "markdown",
      "metadata": {
        "id": "3N_g4DA-vex8"
      },
      "source": [
        "\n",
        "The function below allows to calculate the accuracy of the model on dataset loader. Execute this function to see if you implemented the compute_num_correct_pred function correctly."
      ]
    },
    {
      "cell_type": "code",
      "execution_count": 29,
      "metadata": {
        "id": "FY9V2-NCvv25"
      },
      "outputs": [],
      "source": [
        "def test(loader):\n",
        "  net.eval()\n",
        "\n",
        "  correct = 0\n",
        "  with torch.no_grad():\n",
        "    for data in loader:\n",
        "      dna = data['DNA']\n",
        "      y = data['Class']\n",
        "\n",
        "      out = net(dna)\n",
        "      correct += compute_num_correct_pred(out, y)\n",
        "\n",
        "  return correct / len(loader.dataset)"
      ]
    },
    {
      "cell_type": "markdown",
      "metadata": {
        "id": "I0vTKeeQ3wGb"
      },
      "source": [
        "# Ex 12: Training the model\n",
        "\n",
        "The code below allows to train your model on 10 epoches. If all work well, you should see the training loss drop with each epoch.\n",
        "\n",
        "train the model for 2000 epochs"
      ]
    },
    {
      "cell_type": "code",
      "execution_count": 31,
      "metadata": {
        "colab": {
          "base_uri": "https://localhost:8080/"
        },
        "id": "K-vkWpKLixGE",
        "outputId": "331aa862-572e-40c7-c6e1-70d39ae84fc5"
      },
      "outputs": [
        {
          "output_type": "stream",
          "name": "stdout",
          "text": [
            "Epoch [100/500], Train Accuracy: 0.7500, Test Accuracy: 0.7500\n",
            "Epoch [200/500], Train Accuracy: 0.7500, Test Accuracy: 0.7500\n",
            "Epoch [300/500], Train Accuracy: 0.7500, Test Accuracy: 0.7500\n",
            "Epoch [400/500], Train Accuracy: 0.7502, Test Accuracy: 0.7500\n",
            "Epoch [500/500], Train Accuracy: 0.7502, Test Accuracy: 0.7500\n"
          ]
        }
      ],
      "source": [
        "num_epochs = 500\n",
        "for epoch in range(num_epochs):\n",
        "    loss_epoch = train()\n",
        "    if (epoch + 1) % 100 == 0:\n",
        "        train_acc = test(train_loader)\n",
        "        test_acc = test(test_loader)\n",
        "        print(f\"Epoch [{epoch+1}/{num_epochs}], Train Accuracy: {train_acc:.4f}, Test Accuracy: {test_acc:.4f}\")\n"
      ]
    },
    {
      "cell_type": "markdown",
      "metadata": {
        "id": "WX_FGbp4tV0Z"
      },
      "source": [
        "# Ex13 (optional)\n",
        "\n",
        "\n",
        "\n",
        "1. If we use torch.nn.BCEWithLogitsLoss(), what does we need to change to the definition of the model ?\n",
        "\n",
        "\n",
        "\n",
        "2. The same question for torch.nn.CrossEntropyLoss() loss.  "
      ]
    },
    {
      "cell_type": "code",
      "execution_count": null,
      "metadata": {
        "id": "0l-GFUSOmOIr"
      },
      "outputs": [],
      "source": []
    }
  ],
  "metadata": {
    "colab": {
      "provenance": []
    },
    "kernelspec": {
      "display_name": "Python 3 (ipykernel)",
      "language": "python",
      "name": "python3"
    },
    "language_info": {
      "codemirror_mode": {
        "name": "ipython",
        "version": 3
      },
      "file_extension": ".py",
      "mimetype": "text/x-python",
      "name": "python",
      "nbconvert_exporter": "python",
      "pygments_lexer": "ipython3",
      "version": "3.12.3"
    }
  },
  "nbformat": 4,
  "nbformat_minor": 0
}