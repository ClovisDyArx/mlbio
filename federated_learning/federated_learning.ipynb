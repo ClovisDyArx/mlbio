{
 "cells": [
  {
   "cell_type": "code",
   "id": "initial_id",
   "metadata": {
    "collapsed": true,
    "ExecuteTime": {
     "end_time": "2024-10-10T12:04:01.934880Z",
     "start_time": "2024-10-10T12:03:59.892071Z"
    }
   },
   "source": [
    "import torch\n",
    "import torchvision\n",
    "import torchvision.transforms as transforms\n",
    "from torchvision.datasets import MNIST\n",
    "from torch.utils.data import DataLoader\n",
    "import torch.nn as nn"
   ],
   "outputs": [],
   "execution_count": 2
  },
  {
   "metadata": {
    "ExecuteTime": {
     "end_time": "2024-10-10T12:04:03.153618Z",
     "start_time": "2024-10-10T12:04:03.150698Z"
    }
   },
   "cell_type": "code",
   "source": [
    " transform = transforms.Compose(\n",
    "    [\n",
    "        transforms.ToTensor(),\n",
    "        transforms.Normalize((0.5, 0.5, 0.5), (0.5, 0.5, 0.5))\n",
    "    ]\n",
    ")"
   ],
   "id": "7616bcc9a319aef1",
   "outputs": [],
   "execution_count": 3
  },
  {
   "metadata": {
    "ExecuteTime": {
     "end_time": "2024-10-10T12:08:45.464609Z",
     "start_time": "2024-10-10T12:08:45.462424Z"
    }
   },
   "cell_type": "code",
   "source": "batch_size = 32",
   "id": "b333532789de6e8",
   "outputs": [],
   "execution_count": 5
  },
  {
   "metadata": {
    "ExecuteTime": {
     "end_time": "2024-10-10T12:14:31.938714Z",
     "start_time": "2024-10-10T12:14:31.910034Z"
    }
   },
   "cell_type": "code",
   "source": [
    "trainset = MNIST(root=\"./data\", train=True, download=True, transform=transform)\n",
    "testset = MNIST(root='./data', train=False, download=True, transform=transform)\n",
    "\n",
    "trainloader = DataLoader(trainset, batch_size=batch_size, shuffle=True, num_workers=2)\n",
    "testloader = DataLoader(trainset, batch_size=batch_size, shuffle=False, num_workers=2)"
   ],
   "id": "1fa9767c8284cd9c",
   "outputs": [],
   "execution_count": 7
  },
  {
   "metadata": {},
   "cell_type": "code",
   "outputs": [],
   "execution_count": null,
   "source": "",
   "id": "6ee5c5aaac76475"
  }
 ],
 "metadata": {
  "kernelspec": {
   "display_name": "Python 3",
   "language": "python",
   "name": "python3"
  },
  "language_info": {
   "codemirror_mode": {
    "name": "ipython",
    "version": 2
   },
   "file_extension": ".py",
   "mimetype": "text/x-python",
   "name": "python",
   "nbconvert_exporter": "python",
   "pygments_lexer": "ipython2",
   "version": "2.7.6"
  }
 },
 "nbformat": 4,
 "nbformat_minor": 5
}
